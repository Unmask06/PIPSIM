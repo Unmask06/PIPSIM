{
 "cells": [
  {
   "cell_type": "code",
   "execution_count": null,
   "metadata": {},
   "outputs": [],
   "source": [
    "import pandas as pd\n",
    "import xlwings as xw\n",
    "from itertools import product\n",
    "from pprint import pprint as pp\n",
    "\n",
    "from sixgill.definitions import *\n",
    "from sixgill.pipesim import Model, Units"
   ]
  },
  {
   "cell_type": "code",
   "execution_count": null,
   "metadata": {},
   "outputs": [],
   "source": [
    "folderPAth = r\"F:\\Project\\AET01083.00 Wave-Component_3A\\09. Documents, Drawings\\9.31 Process\\09.31.01 Current documents\\BAB Pump Hydraulics\\1. HP Model\"\n",
    "fileName = \"BAB HP_NETWORK Winter.pips\"\n",
    "modelPath = folderPAth + \"\\\\\" + fileName\n",
    "\n",
    "###########################################\n",
    "\n",
    "excel_file = \"Water Injection Profile for BAB HP.xlsx\"\n",
    "excel_path = folderPAth + \"\\\\\" + excel_file\n",
    "\n",
    "excel_df = pd.read_excel(excel_path, sheet_name=\"PIPSIM Input\", header=3, index_col=0)\n",
    "df_Conditions = pd.read_excel(\n",
    "    excel_path, sheet_name=\"Conditions\", header=2, index_col=0\n",
    ")\n",
    "well_list = excel_df.index.to_list()"
   ]
  },
  {
   "cell_type": "code",
   "execution_count": null,
   "metadata": {},
   "outputs": [],
   "source": [
    "model = Model.open(modelPath)\n",
    "ns = model.tasks.networksimulation"
   ]
  },
  {
   "cell_type": "code",
   "execution_count": null,
   "metadata": {},
   "outputs": [],
   "source": [
    "dict_bc = ns.get_conditions()\n",
    "df_bc = pd.DataFrame.from_dict(dict_bc)"
   ]
  },
  {
   "cell_type": "code",
   "execution_count": null,
   "metadata": {},
   "outputs": [],
   "source": [
    "dict_overall = model.get_values(show_units=True)\n",
    "df_overall = pd.DataFrame.from_dict(dict_overall)"
   ]
  },
  {
   "cell_type": "code",
   "execution_count": null,
   "metadata": {},
   "outputs": [],
   "source": [
    "required_cols = [\"Unit\"] + well_list\n",
    "df_overallNew = df_overall[required_cols]\n",
    "df_overallNew = df_overallNew.dropna(how=\"all\", axis=0, subset=required_cols[1:])"
   ]
  },
  {
   "cell_type": "code",
   "execution_count": null,
   "metadata": {},
   "outputs": [],
   "source": [
    "df_overallNew.loc[\"IsActive\"] = df_overallNew.loc[\"IsActive\"].apply(\n",
    "    lambda x: True if x == False else x\n",
    ")\n",
    "model.set_values(dict=df_overallNew[well_list].to_dict())"
   ]
  },
  {
   "cell_type": "code",
   "execution_count": null,
   "metadata": {},
   "outputs": [],
   "source": [
    "newSaveAsPath = \"test.pips\"\n",
    "model.save(newSaveAsPath)\n",
    "model.tasks.networksimulation.reset_conditions()"
   ]
  },
  {
   "cell_type": "code",
   "execution_count": null,
   "metadata": {},
   "outputs": [],
   "source": [
    "df_New_bc = pd.DataFrame.from_dict(ns.get_conditions())"
   ]
  },
  {
   "cell_type": "code",
   "execution_count": null,
   "metadata": {},
   "outputs": [],
   "source": [
    "df_New_bc.loc[\"LiquidFlowRate\", well_list] = df_New_bc.loc[\n",
    "    \"LiquidFlowRate\", well_list\n",
    "].apply(lambda flow: 0.001 if flow < 0.0001 else flow)"
   ]
  },
  {
   "cell_type": "code",
   "execution_count": null,
   "metadata": {},
   "outputs": [],
   "source": [
    "ns.set_conditions(boundaries=df_New_bc.to_dict())"
   ]
  },
  {
   "cell_type": "code",
   "execution_count": null,
   "metadata": {},
   "outputs": [],
   "source": [
    "system_variables = [\n",
    "    SystemVariables.PRESSURE,\n",
    "    SystemVariables.TEMPERATURE,\n",
    "    SystemVariables.VOLUME_FLOWRATE_WATER_STOCKTANK,\n",
    "]\n",
    "profile_variables = [\n",
    "    ProfileVariables.TEMPERATURE,\n",
    "    ProfileVariables.PRESSURE,\n",
    "    ProfileVariables.ELEVATION,\n",
    "    ProfileVariables.TOTAL_DISTANCE,\n",
    "]"
   ]
  },
  {
   "cell_type": "code",
   "execution_count": null,
   "metadata": {},
   "outputs": [],
   "source": [
    "results = model.tasks.networksimulation.run(\n",
    "    profile_variables=profile_variables, system_variables=system_variables,\n",
    ")"
   ]
  },
  {
   "cell_type": "code",
   "execution_count": 1,
   "metadata": {},
   "outputs": [
    {
     "ename": "NameError",
     "evalue": "name 'model' is not defined",
     "output_type": "error",
     "traceback": [
      "\u001b[1;31m---------------------------------------------------------------------------\u001b[0m",
      "\u001b[1;31mNameError\u001b[0m                                 Traceback (most recent call last)",
      "Cell \u001b[1;32mIn[1], line 1\u001b[0m\n\u001b[1;32m----> 1\u001b[0m \u001b[43mmodel\u001b[49m\u001b[38;5;241m.\u001b[39mclose()\n",
      "\u001b[1;31mNameError\u001b[0m: name 'model' is not defined"
     ]
    }
   ],
   "source": [
    "model.close()"
   ]
  },
  {
   "cell_type": "code",
   "execution_count": null,
   "metadata": {},
   "outputs": [],
   "source": [
    "# results = ns.run(system_variables=system_variables, profile_variables=profile_variables)\n",
    "# dict_NodeResults = results.node\n",
    "# df_NodeResults = pd.DataFrame.from_dict(dict_NodeResults)"
   ]
  },
  {
   "cell_type": "code",
   "execution_count": null,
   "metadata": {},
   "outputs": [],
   "source": [
    "# Unit Conversion (BPD to m3/s)\n",
    "conversion_factor = 1.840131e-6\n",
    "cols_for_conversion = excel_df.columns.to_list()[1:]\n",
    "excel_df[cols_for_conversion] = excel_df[cols_for_conversion] * conversion_factor"
   ]
  },
  {
   "cell_type": "code",
   "execution_count": null,
   "metadata": {},
   "outputs": [],
   "source": [
    "case = \"C3\"\n",
    "for well in excel_df[\"Case\"]:\n",
    "    if well in df_bc.columns:\n",
    "        flowrate = excel_df.loc[excel_df[\"Case\"] == well, [case]].values[0][0]\n",
    "        df_bc[well][\"LiquidFlowRate\"] = flowrate"
   ]
  },
  {
   "cell_type": "code",
   "execution_count": null,
   "metadata": {},
   "outputs": [],
   "source": [
    "updated_bc = df_bc.to_dict()\n",
    "ns.set_conditions(boundaries=updated_bc)\n",
    "updated_results = ns.run(\n",
    "    system_variables=system_variables, profile_variables=profile_variables\n",
    ")"
   ]
  },
  {
   "cell_type": "code",
   "execution_count": null,
   "metadata": {},
   "outputs": [],
   "source": [
    "dict_New_NodeResults = updated_results.node\n",
    "df_New_NodeResults = pd.DataFrame.from_dict(dict_New_NodeResults)"
   ]
  },
  {
   "cell_type": "code",
   "execution_count": null,
   "metadata": {},
   "outputs": [],
   "source": [
    "# Unit Conversion in results\n",
    "# Pressure Pa a to barg\n",
    "df_New_NodeResults[\"Pressure\"].iloc[0] = \"bar g\"\n",
    "df_New_NodeResults[\"Pressure\"].iloc[1:] = (\n",
    "    df_New_NodeResults[\"Pressure\"].iloc[1:] - 101325\n",
    ") / 1e5\n",
    "\n",
    "# Temperature K to C\n",
    "df_New_NodeResults[\"Temperature\"].iloc[0] = \"deg C\"\n",
    "df_New_NodeResults[\"Temperature\"].iloc[1:] = (\n",
    "    df_New_NodeResults[\"Temperature\"].iloc[1:] - 273.15\n",
    ")\n",
    "\n",
    "# Flowrate m3/s to BPD\n",
    "df_New_NodeResults[\"VolumeFlowrateWaterStockTank\"].iloc[0] = \"STBPD\"\n",
    "df_New_NodeResults[\"VolumeFlowrateWaterStockTank\"].iloc[1:] = (\n",
    "    df_New_NodeResults[\"VolumeFlowrateWaterStockTank\"].iloc[1:] * conversion_factor\n",
    ")"
   ]
  },
  {
   "cell_type": "code",
   "execution_count": null,
   "metadata": {},
   "outputs": [],
   "source": [
    "wb = xw.Book(excel_path)\n",
    "sheet_name = case + \"_Results\"\n",
    "if sheet_name not in [sheet.name for sheet in wb.sheets]:\n",
    "    wb.sheets.add(sheet_name)\n",
    "ws = wb.sheets(sheet_name)\n",
    "ws.clear_contents()\n",
    "\n",
    "# ws.range(\"B2\").value = df_NodeResults\n",
    "\n",
    "ws.range(\"B2\").value = df_New_NodeResults\n",
    "\n",
    "new_file = folderPAth + \"\\\\\" + case + \"_\" + fileName\n",
    "model.save(new_file)\n",
    "\n",
    "model.close()"
   ]
  },
  {
   "cell_type": "code",
   "execution_count": null,
   "metadata": {},
   "outputs": [],
   "source": [
    "model.close()"
   ]
  },
  {
   "cell_type": "code",
   "execution_count": null,
   "metadata": {},
   "outputs": [],
   "source": []
  }
 ],
 "metadata": {
  "kernelspec": {
   "display_name": "base",
   "language": "python",
   "name": "python3"
  },
  "language_info": {
   "codemirror_mode": {
    "name": "ipython",
    "version": 3
   },
   "file_extension": ".py",
   "mimetype": "text/x-python",
   "name": "python",
   "nbconvert_exporter": "python",
   "pygments_lexer": "ipython3",
   "version": "3.11.7"
  }
 },
 "nbformat": 4,
 "nbformat_minor": 2
}
