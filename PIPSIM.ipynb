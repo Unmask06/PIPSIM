{
 "cells": [
  {
   "cell_type": "code",
   "execution_count": 2,
   "metadata": {},
   "outputs": [],
   "source": [
    "from app.core.model_builder import ModelBuilder\n",
    "from sixgill.pipesim import Model\n",
    "from sixgill.definitions import ModelComponents, Parameters\n",
    "from app.project import get_string_values_from_class\n",
    "from sixgill.core.model_context import ContextError\n",
    "from sixgill.core.mapping import ParameterError\n",
    "import pandas as pd\n",
    "import logging\n",
    "\n",
    "logger = logging.getLogger(__name__)"
   ]
  },
  {
   "cell_type": "code",
   "execution_count": 3,
   "metadata": {},
   "outputs": [
    {
     "name": "stderr",
     "output_type": "stream",
     "text": [
      "INFO:manta.server.manager:Starting PIPESIM server on thread ID: 19700\n",
      "INFO:manta.server.manager:Python toolkit license is checked out successfully\n",
      "INFO:manta.server.manager:Waiting for PIPESIM server to start.\n"
     ]
    }
   ],
   "source": [
    "model = Model.open(\"trail.pips\")"
   ]
  },
  {
   "cell_type": "code",
   "execution_count": 4,
   "metadata": {},
   "outputs": [],
   "source": [
    "df = pd.read_excel(\"trail_copy.xlsx\", sheet_name=None)"
   ]
  },
  {
   "cell_type": "code",
   "execution_count": 5,
   "metadata": {},
   "outputs": [],
   "source": [
    "flowline = df[\"Flowline Geometry\"]"
   ]
  },
  {
   "cell_type": "code",
   "execution_count": 6,
   "metadata": {},
   "outputs": [],
   "source": [
    "model.set_value(\n",
    "    context=\"6-BFW-2\", parameter=Parameters.Flowline.DETAILEDMODEL, value=True\n",
    ")"
   ]
  },
  {
   "cell_type": "code",
   "execution_count": 14,
   "metadata": {},
   "outputs": [],
   "source": [
    "def convert_to_detailed_flowline(flowlines: list):\n",
    "    dict = {\n",
    "        flowline: {Parameters.Flowline.DETAILEDMODEL: True} for flowline in flowlines\n",
    "    }\n",
    "    return dict"
   ]
  },
  {
   "cell_type": "code",
   "execution_count": 17,
   "metadata": {},
   "outputs": [
    {
     "data": {
      "text/plain": [
       "{'6-BFW-2': {'DetailedModel': True}, '6-BFW-4': {'DetailedModel': True}}"
      ]
     },
     "execution_count": 17,
     "metadata": {},
     "output_type": "execute_result"
    }
   ],
   "source": [
    "convert_to_detailed_flowline(flowline[\"Name\"].unique().tolist())"
   ]
  },
  {
   "cell_type": "code",
   "execution_count": 7,
   "metadata": {},
   "outputs": [
    {
     "data": {
      "text/html": [
       "<div>\n",
       "<style scoped>\n",
       "    .dataframe tbody tr th:only-of-type {\n",
       "        vertical-align: middle;\n",
       "    }\n",
       "\n",
       "    .dataframe tbody tr th {\n",
       "        vertical-align: top;\n",
       "    }\n",
       "\n",
       "    .dataframe thead th {\n",
       "        text-align: right;\n",
       "    }\n",
       "</style>\n",
       "<table border=\"1\" class=\"dataframe\">\n",
       "  <thead>\n",
       "    <tr style=\"text-align: right;\">\n",
       "      <th></th>\n",
       "      <th>Name</th>\n",
       "      <th>HorizontalDistance</th>\n",
       "      <th>MeasuredDistance</th>\n",
       "      <th>Elevation</th>\n",
       "    </tr>\n",
       "  </thead>\n",
       "  <tbody>\n",
       "    <tr>\n",
       "      <th>1</th>\n",
       "      <td>6-BFW-2</td>\n",
       "      <td>0</td>\n",
       "      <td>NaN</td>\n",
       "      <td>100</td>\n",
       "    </tr>\n",
       "    <tr>\n",
       "      <th>2</th>\n",
       "      <td>6-BFW-2</td>\n",
       "      <td>100</td>\n",
       "      <td>NaN</td>\n",
       "      <td>120</td>\n",
       "    </tr>\n",
       "    <tr>\n",
       "      <th>3</th>\n",
       "      <td>6-BFW-2</td>\n",
       "      <td>200</td>\n",
       "      <td>NaN</td>\n",
       "      <td>150</td>\n",
       "    </tr>\n",
       "    <tr>\n",
       "      <th>4</th>\n",
       "      <td>6-BFW-2</td>\n",
       "      <td>300</td>\n",
       "      <td>NaN</td>\n",
       "      <td>200</td>\n",
       "    </tr>\n",
       "    <tr>\n",
       "      <th>5</th>\n",
       "      <td>6-BFW-4</td>\n",
       "      <td>1</td>\n",
       "      <td>NaN</td>\n",
       "      <td>101</td>\n",
       "    </tr>\n",
       "    <tr>\n",
       "      <th>6</th>\n",
       "      <td>6-BFW-4</td>\n",
       "      <td>101</td>\n",
       "      <td>NaN</td>\n",
       "      <td>121</td>\n",
       "    </tr>\n",
       "    <tr>\n",
       "      <th>7</th>\n",
       "      <td>6-BFW-4</td>\n",
       "      <td>201</td>\n",
       "      <td>NaN</td>\n",
       "      <td>151</td>\n",
       "    </tr>\n",
       "    <tr>\n",
       "      <th>8</th>\n",
       "      <td>6-BFW-4</td>\n",
       "      <td>301</td>\n",
       "      <td>NaN</td>\n",
       "      <td>201</td>\n",
       "    </tr>\n",
       "  </tbody>\n",
       "</table>\n",
       "</div>"
      ],
      "text/plain": [
       "      Name HorizontalDistance MeasuredDistance Elevation\n",
       "1  6-BFW-2                  0              NaN       100\n",
       "2  6-BFW-2                100              NaN       120\n",
       "3  6-BFW-2                200              NaN       150\n",
       "4  6-BFW-2                300              NaN       200\n",
       "5  6-BFW-4                  1              NaN       101\n",
       "6  6-BFW-4                101              NaN       121\n",
       "7  6-BFW-4                201              NaN       151\n",
       "8  6-BFW-4                301              NaN       201"
      ]
     },
     "execution_count": 7,
     "metadata": {},
     "output_type": "execute_result"
    }
   ],
   "source": [
    "flowline[\"Name\"] = flowline[\"Name\"].fillna(method=\"ffill\")\n",
    "flowline = flowline.dropna(subset=[\"Name\"])\n",
    "flowline"
   ]
  },
  {
   "cell_type": "code",
   "execution_count": 8,
   "metadata": {},
   "outputs": [],
   "source": [
    "def set_flowline_geometry(context, data):\n",
    "    try:\n",
    "        model.set_geometry(context, data)\n",
    "    except ContextError as e:\n",
    "        logger.error(f\"Error setting flowline geometry: {e}\")\n",
    "    except ParameterError as e:\n",
    "        logger.error(f\"Error setting flowline geometry: {e}\")\n",
    "\n",
    "\n",
    "def import_flowline_geometry(flowline_data):\n",
    "    for name, data in flowline_data.items():\n",
    "        try:\n",
    "            set_flowline_geometry(name, data)\n",
    "        except ValueError as e:\n",
    "            logger.error(f\"Error importing flowline geometry: {e}\")\n",
    "\n",
    "\n",
    "def create_flowline_geometry_data(flowline) -> dict:\n",
    "    if \"Name\" not in flowline.columns:\n",
    "        raise ValueError(\"Name column is required in flowline geometry data\")\n",
    "    flowline[\"Name\"] = flowline[\"Name\"].fillna(method=\"ffill\")\n",
    "    flowline = flowline.dropna(subset=[\"Name\"])\n",
    "    flowline_data = {}\n",
    "    for name, group in flowline.groupby(\"Name\"):\n",
    "        cols = set(\n",
    "            get_string_values_from_class(Parameters.FlowlineGeometry)\n",
    "        ).intersection(set(group.columns))\n",
    "        flowline_data[name] = group[list(cols)]\n",
    "    return flowline_data"
   ]
  },
  {
   "cell_type": "code",
   "execution_count": 10,
   "metadata": {},
   "outputs": [
    {
     "name": "stderr",
     "output_type": "stream",
     "text": [
      "C:\\Users\\IDM252577\\AppData\\Local\\Temp\\ipykernel_14924\\1281871392.py:18: SettingWithCopyWarning: \n",
      "A value is trying to be set on a copy of a slice from a DataFrame.\n",
      "Try using .loc[row_indexer,col_indexer] = value instead\n",
      "\n",
      "See the caveats in the documentation: https://pandas.pydata.org/pandas-docs/stable/user_guide/indexing.html#returning-a-view-versus-a-copy\n",
      "  flowline[\"Name\"] = flowline[\"Name\"].fillna(method=\"ffill\")\n"
     ]
    }
   ],
   "source": [
    "data = create_flowline_geometry_data(flowline)"
   ]
  },
  {
   "cell_type": "code",
   "execution_count": 11,
   "metadata": {},
   "outputs": [
    {
     "ename": "ValueError",
     "evalue": "Flowline 6-BFW-4 is a simple flowline.",
     "output_type": "error",
     "traceback": [
      "\u001b[1;31m---------------------------------------------------------------------------\u001b[0m",
      "\u001b[1;31mValueError\u001b[0m                                Traceback (most recent call last)",
      "Cell \u001b[1;32mIn[11], line 1\u001b[0m\n\u001b[1;32m----> 1\u001b[0m \u001b[43mimport_flowline_geometry\u001b[49m\u001b[43m(\u001b[49m\u001b[43mdata\u001b[49m\u001b[43m)\u001b[49m\n",
      "Cell \u001b[1;32mIn[8], line 12\u001b[0m, in \u001b[0;36mimport_flowline_geometry\u001b[1;34m(flowline_data)\u001b[0m\n\u001b[0;32m     10\u001b[0m \u001b[38;5;28;01mdef\u001b[39;00m \u001b[38;5;21mimport_flowline_geometry\u001b[39m(flowline_data):\n\u001b[0;32m     11\u001b[0m     \u001b[38;5;28;01mfor\u001b[39;00m name, data \u001b[38;5;129;01min\u001b[39;00m flowline_data\u001b[38;5;241m.\u001b[39mitems():\n\u001b[1;32m---> 12\u001b[0m         \u001b[43mset_flowline_geometry\u001b[49m\u001b[43m(\u001b[49m\u001b[43mname\u001b[49m\u001b[43m,\u001b[49m\u001b[43m \u001b[49m\u001b[43mdata\u001b[49m\u001b[43m)\u001b[49m\n",
      "Cell \u001b[1;32mIn[8], line 3\u001b[0m, in \u001b[0;36mset_flowline_geometry\u001b[1;34m(context, data)\u001b[0m\n\u001b[0;32m      1\u001b[0m \u001b[38;5;28;01mdef\u001b[39;00m \u001b[38;5;21mset_flowline_geometry\u001b[39m(context, data):\n\u001b[0;32m      2\u001b[0m     \u001b[38;5;28;01mtry\u001b[39;00m:\n\u001b[1;32m----> 3\u001b[0m         \u001b[43mmodel\u001b[49m\u001b[38;5;241;43m.\u001b[39;49m\u001b[43mset_geometry\u001b[49m\u001b[43m(\u001b[49m\u001b[43mcontext\u001b[49m\u001b[43m,\u001b[49m\u001b[43m \u001b[49m\u001b[43mdata\u001b[49m\u001b[43m)\u001b[49m\n\u001b[0;32m      4\u001b[0m     \u001b[38;5;28;01mexcept\u001b[39;00m ContextError \u001b[38;5;28;01mas\u001b[39;00m e:\n\u001b[0;32m      5\u001b[0m         logger\u001b[38;5;241m.\u001b[39merror(\u001b[38;5;124mf\u001b[39m\u001b[38;5;124m\"\u001b[39m\u001b[38;5;124mError setting flowline geometry: \u001b[39m\u001b[38;5;132;01m{\u001b[39;00me\u001b[38;5;132;01m}\u001b[39;00m\u001b[38;5;124m\"\u001b[39m)\n",
      "File \u001b[1;32mc:\\Program Files\\Schlumberger\\Pipesim_PTK_2023.1\\Lib\\site-packages\\sixgill\\pipesim.py:2073\u001b[0m, in \u001b[0;36mModel.set_geometry\u001b[1;34m(self, context, value, model_context, **context_keywords)\u001b[0m\n\u001b[0;32m   2066\u001b[0m flowline_profile\u001b[38;5;241m.\u001b[39mset_data_frame(value)\n\u001b[0;32m   2067\u001b[0m merged_context \u001b[38;5;241m=\u001b[39m getset\u001b[38;5;241m.\u001b[39mcompute_context(root_context\u001b[38;5;241m=\u001b[39m\u001b[38;5;28mself\u001b[39m\u001b[38;5;241m.\u001b[39mcontext,\n\u001b[0;32m   2068\u001b[0m                                         context\u001b[38;5;241m=\u001b[39mcontext,\n\u001b[0;32m   2069\u001b[0m                                         component\u001b[38;5;241m=\u001b[39mModelComponents\u001b[38;5;241m.\u001b[39mFLOWLINE,\n\u001b[0;32m   2070\u001b[0m                                         model_context\u001b[38;5;241m=\u001b[39mmodel_context,\n\u001b[0;32m   2071\u001b[0m                                         context_keywords\u001b[38;5;241m=\u001b[39mcontext_keywords)\n\u001b[1;32m-> 2073\u001b[0m \u001b[38;5;28;43mself\u001b[39;49m\u001b[38;5;241;43m.\u001b[39;49m\u001b[43m_set_value_internal\u001b[49m\u001b[43m(\u001b[49m\u001b[43mParameters\u001b[49m\u001b[38;5;241;43m.\u001b[39;49m\u001b[43mFlowline\u001b[49m\u001b[38;5;241;43m.\u001b[39;49m\u001b[43mGEOMETRYPROFILE\u001b[49m\u001b[43m,\u001b[49m\u001b[43m \u001b[49m\u001b[43mflowline_profile\u001b[49m\u001b[43m,\u001b[49m\u001b[43m \u001b[49m\u001b[43mmerged_context\u001b[49m\u001b[43m,\u001b[49m\u001b[43m \u001b[49m\u001b[43mModelComponents\u001b[49m\u001b[38;5;241;43m.\u001b[39;49m\u001b[43mFLOWLINE\u001b[49m\u001b[43m)\u001b[49m\n",
      "File \u001b[1;32mc:\\Program Files\\Schlumberger\\Pipesim_PTK_2023.1\\Lib\\site-packages\\sixgill\\pipesim.py:2343\u001b[0m, in \u001b[0;36mModel._set_value_internal\u001b[1;34m(self, parameter, value, model_context, component)\u001b[0m\n\u001b[0;32m   2340\u001b[0m \u001b[38;5;28;01mif\u001b[39;00m fcv_get_set\u001b[38;5;241m.\u001b[39mis_fcv_context \u001b[38;5;129;01mand\u001b[39;00m fcv_get_set\u001b[38;5;241m.\u001b[39mset_value(parameter, value):\n\u001b[0;32m   2341\u001b[0m     \u001b[38;5;28;01mreturn\u001b[39;00m\n\u001b[1;32m-> 2343\u001b[0m entry \u001b[38;5;241m=\u001b[39m \u001b[43mgetset\u001b[49m\u001b[38;5;241;43m.\u001b[39;49m\u001b[43mset_value\u001b[49m\u001b[43m(\u001b[49m\u001b[38;5;28;43mself\u001b[39;49m\u001b[38;5;241;43m.\u001b[39;49m\u001b[43m_almanac\u001b[49m\u001b[43m,\u001b[49m\n\u001b[0;32m   2344\u001b[0m \u001b[43m                 \u001b[49m\u001b[38;5;28;43mself\u001b[39;49m\u001b[38;5;241;43m.\u001b[39;49m\u001b[43m_catalog\u001b[49m\u001b[43m,\u001b[49m\n\u001b[0;32m   2345\u001b[0m \u001b[43m                 \u001b[49m\u001b[38;5;28;43mself\u001b[39;49m\u001b[38;5;241;43m.\u001b[39;49m\u001b[43m_session\u001b[49m\u001b[43m,\u001b[49m\n\u001b[0;32m   2346\u001b[0m \u001b[43m                 \u001b[49m\u001b[43mparameter\u001b[49m\u001b[43m,\u001b[49m\n\u001b[0;32m   2347\u001b[0m \u001b[43m                 \u001b[49m\u001b[43mvalue\u001b[49m\u001b[43m,\u001b[49m\n\u001b[0;32m   2348\u001b[0m \u001b[43m                 \u001b[49m\u001b[43mmodel_context\u001b[49m\u001b[43m,\u001b[49m\n\u001b[0;32m   2349\u001b[0m \u001b[43m                 \u001b[49m\u001b[43mcomponent\u001b[49m\u001b[43m)\u001b[49m\n\u001b[0;32m   2351\u001b[0m \u001b[38;5;66;03m# Refresh node if required\u001b[39;00m\n\u001b[0;32m   2352\u001b[0m \n\u001b[0;32m   2353\u001b[0m \u001b[38;5;66;03m#if we are setting the TopMeasuredDepth/Length of a tubingSection, then the connected sections may also change. refresh them all\u001b[39;00m\n\u001b[0;32m   2354\u001b[0m \u001b[38;5;28;01mif\u001b[39;00m parameter \u001b[38;5;241m==\u001b[39m Parameters\u001b[38;5;241m.\u001b[39mTubing\u001b[38;5;241m.\u001b[39mTOPMEASUREDDEPTH \u001b[38;5;129;01mor\u001b[39;00m parameter \u001b[38;5;241m==\u001b[39m Parameters\u001b[38;5;241m.\u001b[39mTubing\u001b[38;5;241m.\u001b[39mLENGTH:\n",
      "File \u001b[1;32mc:\\Program Files\\Schlumberger\\Pipesim_PTK_2023.1\\Lib\\site-packages\\sixgill\\core\\getset.py:200\u001b[0m, in \u001b[0;36mset_value\u001b[1;34m(almanac, catalog, session, parameter, value, context, component)\u001b[0m\n\u001b[0;32m    198\u001b[0m entry \u001b[38;5;241m=\u001b[39m _find_entry(catalog, class_to_mapping_dict\u001b[38;5;241m.\u001b[39mkeys(), context, component, parameter)\n\u001b[0;32m    199\u001b[0m \u001b[38;5;66;03m# Use the parameter mapper to read the node\u001b[39;00m\n\u001b[1;32m--> 200\u001b[0m \u001b[43mclass_to_mapping_dict\u001b[49m\u001b[43m[\u001b[49m\u001b[43mentry\u001b[49m\u001b[38;5;241;43m.\u001b[39;49m\u001b[43mclass_id\u001b[49m\u001b[43m]\u001b[49m\u001b[38;5;241;43m.\u001b[39;49m\u001b[43mset_parameter_value\u001b[49m\u001b[43m(\u001b[49m\u001b[43mentry\u001b[49m\u001b[43m,\u001b[49m\u001b[43m \u001b[49m\u001b[43mvalue\u001b[49m\u001b[43m,\u001b[49m\u001b[43m \u001b[49m\u001b[43msession\u001b[49m\u001b[43m)\u001b[49m\n\u001b[0;32m    202\u001b[0m \u001b[38;5;28;01mreturn\u001b[39;00m entry\n",
      "File \u001b[1;32mc:\\Program Files\\Schlumberger\\Pipesim_PTK_2023.1\\Lib\\site-packages\\sixgill\\core\\mapping.py:174\u001b[0m, in \u001b[0;36mCanLoadAndStoreMapping.set_parameter_value\u001b[1;34m(self, entry, value, session)\u001b[0m\n\u001b[0;32m    172\u001b[0m \u001b[38;5;28;01mif\u001b[39;00m \u001b[38;5;129;01mnot\u001b[39;00m \u001b[38;5;28misinstance\u001b[39m(value, CanLoadAndStore):\n\u001b[0;32m    173\u001b[0m     \u001b[38;5;28;01mraise\u001b[39;00m \u001b[38;5;167;01mTypeError\u001b[39;00m(\u001b[38;5;124m\"\u001b[39m\u001b[38;5;124mThe object \u001b[39m\u001b[38;5;132;01m{}\u001b[39;00m\u001b[38;5;124m is not an instance of CanLoadAndStore\u001b[39m\u001b[38;5;124m\"\u001b[39m\u001b[38;5;241m.\u001b[39mformat(value))\n\u001b[1;32m--> 174\u001b[0m \u001b[43mvalue\u001b[49m\u001b[38;5;241;43m.\u001b[39;49m\u001b[43mstore\u001b[49m\u001b[43m(\u001b[49m\u001b[43msession\u001b[49m\u001b[43m,\u001b[49m\u001b[43m \u001b[49m\u001b[43mentry\u001b[49m\u001b[38;5;241;43m.\u001b[39;49m\u001b[43mnode_id\u001b[49m\u001b[43m)\u001b[49m\n",
      "File \u001b[1;32mc:\\Program Files\\Schlumberger\\Pipesim_PTK_2023.1\\Lib\\site-packages\\sixgill\\core\\data_frame.py:189\u001b[0m, in \u001b[0;36mDataFrameHandler.store\u001b[1;34m(self, session, id)\u001b[0m\n\u001b[0;32m    172\u001b[0m \u001b[38;5;250m\u001b[39m\u001b[38;5;124;03m\"\"\"\u001b[39;00m\n\u001b[0;32m    173\u001b[0m \u001b[38;5;124;03mSave memeory data_frame to model. \u001b[39;00m\n\u001b[0;32m    174\u001b[0m \n\u001b[1;32m   (...)\u001b[0m\n\u001b[0;32m    186\u001b[0m \n\u001b[0;32m    187\u001b[0m \u001b[38;5;124;03m\"\"\"\u001b[39;00m\n\u001b[0;32m    188\u001b[0m data_frame \u001b[38;5;241m=\u001b[39m \u001b[38;5;28mself\u001b[39m\u001b[38;5;241m.\u001b[39mget_data_frame()\n\u001b[1;32m--> 189\u001b[0m \u001b[38;5;28;43mself\u001b[39;49m\u001b[38;5;241;43m.\u001b[39;49m\u001b[43msave_to_model\u001b[49m\u001b[43m(\u001b[49m\u001b[43msession\u001b[49m\u001b[43m,\u001b[49m\u001b[43m \u001b[49m\u001b[38;5;28;43mid\u001b[39;49m\u001b[43m,\u001b[49m\u001b[43m \u001b[49m\u001b[43mdata_frame\u001b[49m\u001b[43m)\u001b[49m\n",
      "File \u001b[1;32mc:\\Program Files\\Schlumberger\\Pipesim_PTK_2023.1\\Lib\\site-packages\\sixgill\\core\\flowline_profile.py:64\u001b[0m, in \u001b[0;36mFlowlineGeometryProfile.save_to_model\u001b[1;34m(self, session, id, data_frame)\u001b[0m\n\u001b[0;32m     42\u001b[0m \u001b[38;5;250m\u001b[39m\u001b[38;5;124;03m\"\"\"\u001b[39;00m\n\u001b[0;32m     43\u001b[0m \u001b[38;5;124;03mSet the flowline geometry profile with data frame to model.\u001b[39;00m\n\u001b[0;32m     44\u001b[0m \n\u001b[1;32m   (...)\u001b[0m\n\u001b[0;32m     61\u001b[0m \u001b[38;5;124;03m    IsVertex: True means the point is a control point on the flowline. Required if the flowline uses GIS data. Otherwise, this value is ignored.\u001b[39;00m\n\u001b[0;32m     62\u001b[0m \u001b[38;5;124;03m\"\"\"\u001b[39;00m\n\u001b[0;32m     63\u001b[0m CanGetAndSetDataFrames\u001b[38;5;241m.\u001b[39mcheck_data_frame(\u001b[38;5;28mself\u001b[39m, data_frame)\n\u001b[1;32m---> 64\u001b[0m \u001b[38;5;28;43mself\u001b[39;49m\u001b[38;5;241;43m.\u001b[39;49m\u001b[43m_set_geometry_profile\u001b[49m\u001b[43m(\u001b[49m\u001b[43msession\u001b[49m\u001b[43m,\u001b[49m\u001b[43m \u001b[49m\u001b[38;5;28;43mid\u001b[39;49m\u001b[43m,\u001b[49m\u001b[43m \u001b[49m\u001b[43mdata_frame\u001b[49m\u001b[43m)\u001b[49m\n",
      "File \u001b[1;32mc:\\Program Files\\Schlumberger\\Pipesim_PTK_2023.1\\Lib\\site-packages\\sixgill\\core\\flowline_profile.py:129\u001b[0m, in \u001b[0;36mFlowlineGeometryProfile._set_geometry_profile\u001b[1;34m(self, session, id, data_frame)\u001b[0m\n\u001b[0;32m    126\u001b[0m flowline \u001b[38;5;241m=\u001b[39m session\u001b[38;5;241m.\u001b[39mweb_api\u001b[38;5;241m.\u001b[39mNode\u001b[38;5;241m.\u001b[39mget_node(params \u001b[38;5;241m=\u001b[39m get_link_params(\u001b[38;5;28mid\u001b[39m))\n\u001b[0;32m    128\u001b[0m \u001b[38;5;28;01mif\u001b[39;00m \u001b[38;5;129;01mnot\u001b[39;00m flowline\u001b[38;5;241m.\u001b[39mDetailedModel:\n\u001b[1;32m--> 129\u001b[0m     \u001b[38;5;28;01mraise\u001b[39;00m \u001b[38;5;167;01mValueError\u001b[39;00m(\u001b[38;5;124m\"\u001b[39m\u001b[38;5;124mFlowline \u001b[39m\u001b[38;5;132;01m{}\u001b[39;00m\u001b[38;5;124m is a simple flowline.\u001b[39m\u001b[38;5;124m\"\u001b[39m\u001b[38;5;241m.\u001b[39mformat(flowline\u001b[38;5;241m.\u001b[39mName))\n\u001b[0;32m    131\u001b[0m survey_type \u001b[38;5;241m=\u001b[39m session\u001b[38;5;241m.\u001b[39mweb_api\u001b[38;5;241m.\u001b[39mSimpleGeographicSurvey\u001b[38;5;241m.\u001b[39mcls_type_id \u001b[38;5;28;01mif\u001b[39;00m flowline\u001b[38;5;241m.\u001b[39mUseGISData \u001b[38;5;28;01melse\u001b[39;00m session\u001b[38;5;241m.\u001b[39mweb_api\u001b[38;5;241m.\u001b[39mBasicDeviationSurvey\u001b[38;5;241m.\u001b[39mcls_type_id\n\u001b[0;32m    133\u001b[0m surveys \u001b[38;5;241m=\u001b[39m []\n",
      "\u001b[1;31mValueError\u001b[0m: Flowline 6-BFW-4 is a simple flowline."
     ]
    }
   ],
   "source": [
    "import_flowline_geometry(data)"
   ]
  }
 ],
 "metadata": {
  "kernelspec": {
   "display_name": "base",
   "language": "python",
   "name": "python3"
  },
  "language_info": {
   "codemirror_mode": {
    "name": "ipython",
    "version": 3
   },
   "file_extension": ".py",
   "mimetype": "text/x-python",
   "name": "python",
   "nbconvert_exporter": "python",
   "pygments_lexer": "ipython3",
   "version": "3.11.7"
  }
 },
 "nbformat": 4,
 "nbformat_minor": 2
}
