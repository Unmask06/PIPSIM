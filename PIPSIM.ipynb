{
 "cells": [
  {
   "cell_type": "code",
   "execution_count": 1,
   "metadata": {},
   "outputs": [],
   "source": [
    "from core.simulation_modeller import PipsimModel, ModelInput, PipsimModeller\n",
    "from pathlib import Path\n",
    "from core.input_validation import PipSimInput\n",
    "from wave_hydraulics import load_config\n",
    "from core.inputdata import InputData\n",
    "import pandas as pd"
   ]
  },
  {
   "cell_type": "code",
   "execution_count": 2,
   "metadata": {},
   "outputs": [
    {
     "name": "stderr",
     "output_type": "stream",
     "text": [
      "INFO:wave_hydraulics:Input file loaded successfully.\n"
     ]
    }
   ],
   "source": [
    "pipsim_input = load_config(\"inputs.json\")"
   ]
  },
  {
   "cell_type": "code",
   "execution_count": 3,
   "metadata": {},
   "outputs": [],
   "source": [
    "input_data = InputData(\n",
    "    excelfile=pipsim_input.EXCEL_FILE,\n",
    "    well_profile_sheet=pipsim_input.PIPSIM_INPUT_SHEET,\n",
    "    well_profile_starting_range=\"A4\",\n",
    "    conditions_sheet=pipsim_input.CONDITIONS_SHEET,\n",
    "    conditions_starting_range=\"A2\",\n",
    ")"
   ]
  },
  {
   "cell_type": "code",
   "execution_count": 4,
   "metadata": {},
   "outputs": [],
   "source": [
    "input_data.conditions = input_data.conditions.iloc[:, :5]\n",
    "input_data.well_profile = input_data.well_profile.iloc[:, :4]"
   ]
  },
  {
   "cell_type": "code",
   "execution_count": 5,
   "metadata": {},
   "outputs": [
    {
     "name": "stderr",
     "output_type": "stream",
     "text": [
      "INFO:manta.server.manager:Starting PIPESIM server on thread ID: 10576\n",
      "INFO:manta.server.manager:Python toolkit license is checked out successfully\n",
      "INFO:manta.server.manager:Waiting for PIPESIM server to start.\n"
     ]
    }
   ],
   "source": [
    "(case, condition) = (\"Overall_Max\", \"W-LP-EO\")\n",
    "model = PipsimModel(\n",
    "    model_filename=pipsim_input.MODEL_FILENAME, case=case, condition=condition\n",
    ")"
   ]
  },
  {
   "cell_type": "code",
   "execution_count": 6,
   "metadata": {},
   "outputs": [],
   "source": [
    "model_input = ModelInput(\n",
    "    source_name=pipsim_input.SOURCE_NAME,\n",
    "    pump_name=pipsim_input.PUMP_NAME,\n",
    "    well_profile=input_data.well_profile,\n",
    "    ambient_temperature=input_data.conditions.loc[\n",
    "        input_data.conditions[\"Conditions\"] == condition\n",
    "    ][\"Ambient Temperature\"].values[0],\n",
    "    source_pressure=input_data.conditions.loc[\n",
    "        input_data.conditions[\"Conditions\"] == condition\n",
    "    ][\"Source Pressure\"].values[0],\n",
    "    source_temperature=input_data.conditions.loc[\n",
    "        input_data.conditions[\"Conditions\"] == condition\n",
    "    ][\"Temperature\"].values[0],\n",
    "    differential_pressure=input_data.conditions.loc[\n",
    "        input_data.conditions[\"Conditions\"] == condition\n",
    "    ][\"PressureDifferential\"].values[0],\n",
    ")"
   ]
  },
  {
   "cell_type": "code",
   "execution_count": 7,
   "metadata": {},
   "outputs": [],
   "source": [
    "psmodeller = PipsimModeller(model, model_input)"
   ]
  },
  {
   "cell_type": "code",
   "execution_count": 8,
   "metadata": {},
   "outputs": [],
   "source": [
    "# psmodeller.set_global_conditions()\n",
    "# psmodeller.get_boundary_conditions()\n",
    "# psmodeller.get_all_values()\n",
    "# psmodeller.get_well_values()\n",
    "# psmodeller.activate_all_wells()\n",
    "# psmodeller.deactivate_noflow_wells()"
   ]
  },
  {
   "cell_type": "code",
   "execution_count": 9,
   "metadata": {},
   "outputs": [
    {
     "name": "stderr",
     "output_type": "stream",
     "text": [
      "INFO:core.simulation_modeller:Set Global Conditions\n",
      "INFO:core.simulation_modeller:Getting boundary conditions.....\n",
      "INFO:core.simulation_modeller:Getting all values.....\n",
      "INFO:core.simulation_modeller:Getting well values.....\n",
      "INFO:core.simulation_modeller:Getting boundary conditions.....\n",
      "INFO:core.simulation_modeller:Activated all wells\n",
      "INFO:core.simulation_modeller:Deactivated no flow wells\n",
      "ERROR:core.simulation_modeller:HP PUMP 2 not in the model\n",
      "ERROR:core.simulation_modeller:HP PUMP not in the model\n",
      "ERROR:core.simulation_modeller:Sea Water Supply not in the model\n",
      "ERROR:core.simulation_modeller:J 6:J 6_SimpleSource not in the model\n",
      "INFO:core.simulation_modeller:Getting boundary conditions.....\n",
      "INFO:core.simulation_modeller:Populated flowrates in model from excel\n",
      "INFO:core.simulation_modeller:Model saved as c:\\Users\\IDM252577\\Desktop\\Python Projects\\PIPSIM\\Overall_Max_W-LP-EO_BAB HP.pips\n",
      "INFO:core.simulation_modeller:------------Network Simulation Object Closed----------------\n",
      "\n"
     ]
    }
   ],
   "source": [
    "psmodeller.build_model()"
   ]
  },
  {
   "cell_type": "code",
   "execution_count": null,
   "metadata": {},
   "outputs": [],
   "source": []
  }
 ],
 "metadata": {
  "kernelspec": {
   "display_name": "base",
   "language": "python",
   "name": "python3"
  },
  "language_info": {
   "codemirror_mode": {
    "name": "ipython",
    "version": 3
   },
   "file_extension": ".py",
   "mimetype": "text/x-python",
   "name": "python",
   "nbconvert_exporter": "python",
   "pygments_lexer": "ipython3",
   "version": "3.11.7"
  }
 },
 "nbformat": 4,
 "nbformat_minor": 2
}
