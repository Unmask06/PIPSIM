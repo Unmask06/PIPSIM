{
 "cells": [
  {
   "cell_type": "code",
   "execution_count": null,
   "metadata": {},
   "outputs": [],
   "source": [
    "from network_simulation import NetworkSimulation, dict_to_df\n",
    "import logging\n",
    "import traceback\n",
    "\n",
    "import pandas as pd\n",
    "import xlwings as xw\n",
    "from sixgill.definitions import *\n",
    "from sixgill.pipesim import Model, Units"
   ]
  },
  {
   "cell_type": "code",
   "execution_count": null,
   "metadata": {},
   "outputs": [],
   "source": [
    "# Constants\n",
    "FOLDER_DIRECTORY = r\"c:\\Users\\IDM252577\\Desktop\\Python Projects\\PIPSIM\"\n",
    "MODEL_FILENAME = \"BAB HP.pips\"\n",
    "EXCEL_FILE = \"Water Injection Profile for BAB HP.xlsx\""
   ]
  },
  {
   "cell_type": "code",
   "execution_count": null,
   "metadata": {},
   "outputs": [],
   "source": [
    "SOURCE_NAME: str = \"Sea Water Supply\"\n",
    "PUMP_NAME: list = [\"HP Pump\", \"HP PUMP 2\"]"
   ]
  },
  {
   "cell_type": "code",
   "execution_count": null,
   "metadata": {},
   "outputs": [],
   "source": [
    "ns = NetworkSimulation(FOLDER_DIRECTORY, MODEL_FILENAME, EXCEL_FILE)"
   ]
  },
  {
   "cell_type": "code",
   "execution_count": null,
   "metadata": {},
   "outputs": [],
   "source": [
    "ns.run_app(source_name=SOURCE_NAME, pump_name=PUMP_NAME)"
   ]
  }
 ],
 "metadata": {
  "kernelspec": {
   "display_name": "base",
   "language": "python",
   "name": "python3"
  },
  "language_info": {
   "codemirror_mode": {
    "name": "ipython",
    "version": 3
   },
   "file_extension": ".py",
   "mimetype": "text/x-python",
   "name": "python",
   "nbconvert_exporter": "python",
   "pygments_lexer": "ipython3",
   "version": "3.11.7"
  }
 },
 "nbformat": 4,
 "nbformat_minor": 2
}
