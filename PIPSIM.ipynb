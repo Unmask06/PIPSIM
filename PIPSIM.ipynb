{
 "cells": [
  {
   "cell_type": "code",
   "execution_count": 3,
   "metadata": {},
   "outputs": [],
   "source": [
    "from app.core.model_builder import ModelBuilder\n",
    "from sixgill.pipesim import Model\n",
    "from sixgill.definitions import ModelComponents, Parameters\n",
    "from app.project import get_string_values_from_class, generate_dict_from_class\n",
    "from sixgill.core.model_context import ContextError\n",
    "from sixgill.core.mapping import ParameterError\n",
    "import pandas as pd\n",
    "import logging\n",
    "\n",
    "logger = logging.getLogger(__name__)"
   ]
  },
  {
   "cell_type": "code",
   "execution_count": 2,
   "metadata": {},
   "outputs": [
    {
     "name": "stderr",
     "output_type": "stream",
     "text": [
      "INFO:manta.server.manager:Starting PIPESIM server on thread ID: 15400\n"
     ]
    },
    {
     "name": "stderr",
     "output_type": "stream",
     "text": [
      "INFO:manta.server.manager:Python toolkit license is checked out successfully\n",
      "INFO:manta.server.manager:Waiting for PIPESIM server to start.\n"
     ]
    }
   ],
   "source": [
    "model = Model.open(\"trail.pips\")"
   ]
  },
  {
   "cell_type": "code",
   "execution_count": 5,
   "metadata": {},
   "outputs": [
    {
     "data": {
      "text/plain": [
       "dict_keys(['About', 'AbstractTask', 'AbstractTubingSection', 'AssociatedToFluid', 'BlackOilFluid', 'BlackOilUserEmulsionTable', 'BlackOilUserViscosityTable', 'Boundary', 'CanBeTemplate', 'Casing', 'CheckValve', 'Choke', 'CoatingHeatTransfer', 'Completion', 'CompletionConingPoint', 'CompletionTestPoint', 'CompositionalFluid', 'Compressor', 'DeWaardCorrosionModel', 'DistributedCompletionModel', 'DownholeComponent', 'DownholeLocation', 'DownholeOrSurfaceComponent', 'ESP', 'ESPMotorCoefficient', 'EngineKeywords', 'Expander', 'FetkovitchEquationModel', 'FileBasedFluid', 'FlowControlValve', 'FlowCorrelation', 'Flowline', 'FlowlineGeometry', 'Fluid', 'FluidComponent', 'FluidComponentFraction', 'FluidLink', 'GLDiagnosticsSimulation', 'GasLiftInjection', 'GasliftSensitivity', 'GenericEquipment', 'GenericMultiphaseBooster', 'GeographicSurvey', 'GeothermalSurvey', 'GlobalCatalog', 'GravelPack', 'HeatExchanger', 'HeatTransferOption', 'IPRBackPressure', 'IPRDarcy', 'IPRForchheimer', 'IPRHorizontalPI', 'IPRHydraulicFracture', 'IPRJones', 'IPRPIModel', 'IPRPSSBabuOdeh', 'IPRSSJoshi', 'IPRTriLinear', 'IPRVogel', 'Injector', 'Junction', 'Liner', 'LocalConstraint', 'Location', 'MFLFluid', 'MeasurementPoint', 'ModelComponent', 'MultiphaseBooster', 'MultiplierAdder', 'NetworkOptimizerSimulation', 'NetworkSimulation', 'NodalAnalysisSimulation', 'NodalOperatingEnvelopePlot', 'NodalPoint', 'OneSubseaMultiphaseBooster', 'OneSubseaWetGasCompressor', 'OpenHole', 'OptimizerInitialConditions', 'PCP', 'PQCurve', 'PTProfileSimulation', 'PVTFluid', 'Packer', 'Pump', 'RateConstraint', 'RelativePermeability', 'RiskIndexLimits', 'RodPump', 'SchematicPosition', 'SharedOneSubseaParameters', 'SharedPumpCatalogParameters', 'SharedPumpParameters', 'SimulationSetting', 'SingleBranchSimulation', 'SinglePhaseSeparator', 'Sink', 'SlidingSleeve', 'Source', 'SpotReport', 'Study', 'SubsurfaceSafetyValve', 'SurfaceComponent', 'SystemAnalysisSimulation', 'ThreePhaseSeparator', 'TpaCorrosionModel', 'Tubing', 'TwoPhaseSeparator', 'VfpTablesSimulation', 'WaterTempVelocitySurvey', 'Well', 'WellPerformanceCurvesSimulation', 'WellTrajectory'])"
      ]
     },
     "execution_count": 5,
     "metadata": {},
     "output_type": "execute_result"
    }
   ],
   "source": [
    "generate_dict_from_class(Parameters).keys()"
   ]
  },
  {
   "cell_type": "code",
   "execution_count": null,
   "metadata": {},
   "outputs": [],
   "source": [
    "Parameters."
   ]
  }
 ],
 "metadata": {
  "kernelspec": {
   "display_name": "base",
   "language": "python",
   "name": "python3"
  },
  "language_info": {
   "codemirror_mode": {
    "name": "ipython",
    "version": 3
   },
   "file_extension": ".py",
   "mimetype": "text/x-python",
   "name": "python",
   "nbconvert_exporter": "python",
   "pygments_lexer": "ipython3",
   "version": "3.11.7"
  }
 },
 "nbformat": 4,
 "nbformat_minor": 2
}
