{
 "cells": [
  {
   "cell_type": "code",
   "execution_count": 1,
   "metadata": {},
   "outputs": [],
   "source": [
    "import json\n",
    "import logging\n",
    "import os\n",
    "import sys\n",
    "from typing import NoReturn\n",
    "\n",
    "from pydantic import ValidationError\n",
    "\n",
    "from core import ExcelHandler, NetworkSimulation, PipSimInput\n",
    "\n",
    "logger = logging.getLogger(\"Hydraulics\")"
   ]
  },
  {
   "cell_type": "code",
   "execution_count": 2,
   "metadata": {},
   "outputs": [],
   "source": [
    "from wave_hydraulics import *"
   ]
  },
  {
   "cell_type": "code",
   "execution_count": 3,
   "metadata": {},
   "outputs": [
    {
     "name": "stderr",
     "output_type": "stream",
     "text": [
      "INFO:Hydraulics:Input file loaded successfully.\n"
     ]
    }
   ],
   "source": [
    "config = load_config(\"inputs.json\")"
   ]
  },
  {
   "cell_type": "code",
   "execution_count": 4,
   "metadata": {},
   "outputs": [],
   "source": [
    "pipsim_files = [\n",
    "    file for file in os.listdir(config.FOLDER_DIRECTORY) if file.endswith(\".pips\")\n",
    "]\n",
    "pipsim_files.remove(str(config.MODEL_FILENAME))"
   ]
  },
  {
   "cell_type": "code",
   "execution_count": 5,
   "metadata": {},
   "outputs": [
    {
     "data": {
      "text/plain": [
       "['Overall_Min_S-LP-EO_BAB HP.pips', 'Overall_Min_S-LP-LO_BAB HP.pips']"
      ]
     },
     "execution_count": 5,
     "metadata": {},
     "output_type": "execute_result"
    }
   ],
   "source": [
    "# pipsim_files = pipsim_files[:1]\n",
    "pipsim_files = [\"Overall_Min_S-LP-EO_BAB HP.pips\", \"Overall_Min_S-LP-LO_BAB HP.pips\"]\n",
    "pipsim_files"
   ]
  },
  {
   "cell_type": "code",
   "execution_count": 6,
   "metadata": {},
   "outputs": [
    {
     "name": "stderr",
     "output_type": "stream",
     "text": [
      "INFO:NetworkSimulation:------------Network Simulation Object Created----------------\n",
      "Model Path: c:\\Users\\IDM252577\\Desktop\\Python Projects\\PIPSIM\\Overall_Min_S-LP-EO_BAB HP.pips\n",
      "\n",
      "INFO:NetworkSimulation:Model prepared\n",
      " Case:Overall_Min\n",
      " Condition: S-LP-EO\n",
      "INFO:manta.server.manager:Starting PIPESIM server on thread ID: 11300\n",
      "INFO:manta.server.manager:Python toolkit license is checked out successfully\n",
      "INFO:manta.server.manager:Waiting for PIPESIM server to start.\n",
      "INFO:manta.server.manager:Waiting for PIPESIM server to start.\n",
      "INFO:NetworkSimulation:Getting boundary conditions.....\n",
      "INFO:NetworkSimulation:Set Global Conditions\n",
      "INFO:sixgill.core.run_or_start_simulation:Simulation is running.\n",
      "INFO:sixgill.core.run_or_start_simulation:Simulation is running.\n",
      "INFO:sixgill.core.run_or_start_simulation:Simulation is running.\n",
      "INFO:sixgill.core.run_or_start_simulation:Simulation is running.\n",
      "INFO:sixgill.core.run_or_start_simulation:Simulation is running.\n",
      "INFO:sixgill.core.run_or_start_simulation:Simulation is running.\n",
      "INFO:sixgill.core.run_or_start_simulation:Simulation is running.\n",
      "INFO:sixgill.core.run_or_start_simulation:Simulation is running.\n",
      "INFO:sixgill.core.run_or_start_simulation:Simulation is running.\n",
      "INFO:sixgill.core.run_or_start_simulation:Simulation is running.\n",
      "INFO:sixgill.core.run_or_start_simulation:Simulation is running.\n",
      "INFO:sixgill.core.run_or_start_simulation:Simulation is running.\n",
      "INFO:sixgill.core.run_or_start_simulation:Simulation is finished.\n",
      "INFO:sixgill.core.run_or_start_simulation:Simulation run successfully.\n",
      "INFO:NetworkSimulation:Simulation run Successful\n",
      "INFO:NetworkSimulation:Converting units.....\n",
      "INFO:NetworkSimulation:Analyzing the results.....\n",
      "INFO:NetworkSimulation:Results written to excel\n",
      "INFO:NetworkSimulation:Model saved as Overall_Min_S-LP-EO_BAB HP.pips\n",
      "INFO:NetworkSimulation:------------Network Simulation Object Closed----------------\n",
      "\n",
      "INFO:NetworkSimulation:------------Network Simulation Object Created----------------\n",
      "Model Path: c:\\Users\\IDM252577\\Desktop\\Python Projects\\PIPSIM\\Overall_Min_S-LP-LO_BAB HP.pips\n",
      "\n",
      "INFO:NetworkSimulation:Model prepared\n",
      " Case:Overall_Min\n",
      " Condition: S-LP-LO\n",
      "INFO:manta.server.manager:Starting PIPESIM server on thread ID: 4120\n",
      "INFO:manta.server.manager:Waiting for PIPESIM server to start.\n",
      "INFO:manta.server.manager:Python toolkit license is checked out successfully\n",
      "INFO:manta.server.manager:Waiting for PIPESIM server to start.\n",
      "INFO:sixgill.core.metadata:Using cached metadata for 'http://localhost:62007/api/metadata#'\n",
      "INFO:NetworkSimulation:Getting boundary conditions.....\n",
      "INFO:NetworkSimulation:Set Global Conditions\n",
      "INFO:sixgill.core.run_or_start_simulation:Simulation is running.\n",
      "INFO:sixgill.core.run_or_start_simulation:Simulation is running.\n",
      "INFO:sixgill.core.run_or_start_simulation:Simulation is running.\n",
      "INFO:sixgill.core.run_or_start_simulation:Simulation is running.\n",
      "INFO:sixgill.core.run_or_start_simulation:Simulation is running.\n",
      "INFO:sixgill.core.run_or_start_simulation:Simulation is running.\n",
      "INFO:sixgill.core.run_or_start_simulation:Simulation is running.\n",
      "INFO:sixgill.core.run_or_start_simulation:Simulation is running.\n",
      "INFO:sixgill.core.run_or_start_simulation:Simulation is running.\n",
      "INFO:sixgill.core.run_or_start_simulation:Simulation is running.\n",
      "INFO:sixgill.core.run_or_start_simulation:Simulation is running.\n",
      "INFO:sixgill.core.run_or_start_simulation:Simulation is running.\n",
      "INFO:sixgill.core.run_or_start_simulation:Simulation is running.\n",
      "INFO:sixgill.core.run_or_start_simulation:Simulation is finished.\n",
      "INFO:sixgill.core.run_or_start_simulation:Simulation run successfully.\n",
      "INFO:NetworkSimulation:Simulation run Successful\n",
      "INFO:NetworkSimulation:Converting units.....\n",
      "INFO:NetworkSimulation:Analyzing the results.....\n",
      "INFO:NetworkSimulation:Results written to excel\n",
      "INFO:NetworkSimulation:Model saved as Overall_Min_S-LP-LO_BAB HP.pips\n",
      "INFO:NetworkSimulation:------------Network Simulation Object Closed----------------\n",
      "\n"
     ]
    }
   ],
   "source": [
    "for model_filename in pipsim_files:\n",
    "    ns = NetworkSimulation(config.FOLDER_DIRECTORY, model_filename, config.EXCEL_FILE)\n",
    "    ns.initialize_excel_handler(config.PIPSIM_INPUT_SHEET, config.CONDITIONS_SHEET)\n",
    "    ns.run_existing_model(source_name=config.SOURCE_NAME, pump_name=config.PUMP_NAME)"
   ]
  }
 ],
 "metadata": {
  "kernelspec": {
   "display_name": "base",
   "language": "python",
   "name": "python3"
  },
  "language_info": {
   "codemirror_mode": {
    "name": "ipython",
    "version": 3
   },
   "file_extension": ".py",
   "mimetype": "text/x-python",
   "name": "python",
   "nbconvert_exporter": "python",
   "pygments_lexer": "ipython3",
   "version": "3.11.7"
  }
 },
 "nbformat": 4,
 "nbformat_minor": 2
}
