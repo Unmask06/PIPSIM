{
 "cells": [
  {
   "cell_type": "code",
   "execution_count": 20,
   "metadata": {},
   "outputs": [],
   "source": [
    "from app.core.model_builder import ModelBuilder\n",
    "from sixgill.pipesim import Model\n",
    "from sixgill.definitions import ModelComponents\n",
    "from app.project import get_string_values_from_class\n",
    "from sixgill.core.model_context import ContextError\n",
    "from sixgill.core.mapping import ParameterError"
   ]
  },
  {
   "cell_type": "code",
   "execution_count": null,
   "metadata": {},
   "outputs": [],
   "source": [
    "model = Model.open(\"trail.pips\")"
   ]
  },
  {
   "cell_type": "code",
   "execution_count": 3,
   "metadata": {},
   "outputs": [],
   "source": [
    "components = get_string_values_from_class(ModelComponents)"
   ]
  },
  {
   "cell_type": "code",
   "execution_count": null,
   "metadata": {},
   "outputs": [],
   "source": [
    "len(components)"
   ]
  },
  {
   "cell_type": "code",
   "execution_count": 5,
   "metadata": {},
   "outputs": [],
   "source": [
    "values = {}\n",
    "for component in components:\n",
    "    try:\n",
    "        v = model.get_values(\n",
    "            component=component,\n",
    "        )\n",
    "        values[component] = v\n",
    "    except ContextError:\n",
    "        pass"
   ]
  },
  {
   "cell_type": "code",
   "execution_count": 6,
   "metadata": {},
   "outputs": [],
   "source": [
    "# create df from values of each key and write it in asingle excel file with each sheet as a component\n",
    "\n",
    "import pandas as pd\n",
    "\n",
    "with pd.ExcelWriter(\"trail.xlsx\") as writer:\n",
    "    for key, value in values.items():\n",
    "        df = pd.DataFrame(value)\n",
    "        # transpose the df\n",
    "        df = df.T\n",
    "        df.to_excel(writer, sheet_name=key)"
   ]
  },
  {
   "cell_type": "code",
   "execution_count": null,
   "metadata": {},
   "outputs": [],
   "source": [
    "df = pd.read_excel(\"trail.xlsx\", sheet_name=None, index_col=0)\n",
    "df[\"Source\"]"
   ]
  },
  {
   "cell_type": "code",
   "execution_count": null,
   "metadata": {},
   "outputs": [],
   "source": [
    "for key, value in df.items():\n",
    "    print(key)\n",
    "    try:\n",
    "        model.set_values(dict=value.to_dict(orient=\"index\"))\n",
    "    except ParameterError:\n",
    "        print(f\"Error setting values for {key}\")\n",
    "    except Exception as e:\n",
    "        print(f\"Error setting values for {key}: {e}\")"
   ]
  },
  {
   "cell_type": "code",
   "execution_count": null,
   "metadata": {},
   "outputs": [],
   "source": [
    "x = model.get_values(component=ModelComponents.FLOWCORRELATION)"
   ]
  },
  {
   "cell_type": "code",
   "execution_count": null,
   "metadata": {},
   "outputs": [],
   "source": [
    "df[\"Source\"]"
   ]
  },
  {
   "cell_type": "code",
   "execution_count": 29,
   "metadata": {},
   "outputs": [],
   "source": [
    "model.set_values(dict=df[\"Source\"].to_dict(orient=\"index\"))"
   ]
  },
  {
   "cell_type": "code",
   "execution_count": null,
   "metadata": {},
   "outputs": [],
   "source": [
    "def export_values(excel_file, components=None):\n",
    "    model = Model.open(\"trail.pips\")\n",
    "\n",
    "    if components is None:\n",
    "        components = get_string_values_from_class(ModelComponents)\n",
    "\n",
    "    values = {}\n",
    "    for component in components:\n",
    "        try:\n",
    "            v = model.get_values(\n",
    "                component=component,\n",
    "            )\n",
    "            values[component] = v\n",
    "        except ContextError:\n",
    "            pass\n",
    "\n",
    "    with pd.ExcelWriter(excel_file) as writer:\n",
    "        for key, value in values.items():\n",
    "            df = pd.DataFrame(value)\n",
    "            df = df.T\n",
    "            df.to_excel(writer, sheet_name=key)\n",
    "\n",
    "\n",
    "def import_values(excel_file):\n",
    "    df = pd.read_excel(excel_file, sheet_name=None, index_col=0)\n",
    "    model = Model.open(\"trail.pips\")\n",
    "\n",
    "    for key, value in df.items():\n",
    "        try:\n",
    "            components = get_string_values_from_class(ModelComponents)\n",
    "            if key in components:\n",
    "                model.set_values(dict=value.to_dict(orient=\"index\"))\n",
    "        except ParameterError:\n",
    "            print(f\"Error setting values for {key}\")\n",
    "        except Exception as e:\n",
    "            print(f\"Error setting values for {key}: {e}\")"
   ]
  }
 ],
 "metadata": {
  "kernelspec": {
   "display_name": "base",
   "language": "python",
   "name": "python3"
  },
  "language_info": {
   "codemirror_mode": {
    "name": "ipython",
    "version": 3
   },
   "file_extension": ".py",
   "mimetype": "text/x-python",
   "name": "python",
   "nbconvert_exporter": "python",
   "pygments_lexer": "ipython3",
   "version": "3.11.7"
  }
 },
 "nbformat": 4,
 "nbformat_minor": 2
}
