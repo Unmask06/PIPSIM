{
 "cells": [
  {
   "cell_type": "code",
   "execution_count": 1,
   "metadata": {},
   "outputs": [],
   "source": [
    "from core.multi_case_modeller import MultiCaseModeller\n",
    "from sixgill.definitions import ModelComponents, Parameters\n",
    "from sixgill.pipesim import Model, Units\n",
    "from core import ExcelInputError"
   ]
  },
  {
   "cell_type": "code",
   "execution_count": 2,
   "metadata": {},
   "outputs": [
    {
     "name": "stderr",
     "output_type": "stream",
     "text": [
      "INFO:manta.server.manager:Starting PIPESIM server on thread ID: 16940\n",
      "INFO:manta.server.manager:Python toolkit license is checked out successfully\n",
      "INFO:manta.server.manager:Waiting for PIPESIM server to start.\n"
     ]
    }
   ],
   "source": [
    "try:\n",
    "    mcm = MultiCaseModeller(\n",
    "        # base_model_path=r\"C:\\Users\\IDM252577\\Desktop\\Python Projects\\PIPSIM\\Models\\O-Max_S-HP_trail.pips\",\n",
    "        base_model_path=\"trail.pips\",\n",
    "        excel_path=\"trail.xlsx\",\n",
    "        sink_profile_sheet=\"well profile\",\n",
    "        condition_sheet=\"conditions\",\n",
    "    )\n",
    "except ExcelInputError as e:\n",
    "    print(e)"
   ]
  },
  {
   "cell_type": "code",
   "execution_count": 3,
   "metadata": {},
   "outputs": [],
   "source": [
    "case, condition = \"O-Max\", \"S-HP\"\n",
    "# multi_case_modeller.build_model(case, condition)"
   ]
  },
  {
   "cell_type": "code",
   "execution_count": 4,
   "metadata": {},
   "outputs": [
    {
     "name": "stderr",
     "output_type": "stream",
     "text": [
      "INFO:core.multi_case_modeller:Building model for case: O-Max, condition: S-HP\n",
      "\n",
      "INFO:core.multi_case_modeller:Set simulation settings for condition: S-HP\n",
      "INFO:core.multi_case_modeller:Set parameters for condition: S-HP\n",
      "INFO:core.multi_case_modeller:Set sink data for case: O-Max\n",
      "INFO:core.multi_case_modeller:Model saved as c:\\Users\\IDM252577\\Desktop\\Python Projects\\PIPSIM\\Models\\O-Max_S-HP_trail.pips\n",
      "INFO:core.multi_case_modeller:------------Network Simulation Object Closed----------------\n",
      "\n"
     ]
    }
   ],
   "source": [
    "mcm.build_model(case, condition)"
   ]
  },
  {
   "cell_type": "code",
   "execution_count": 5,
   "metadata": {},
   "outputs": [
    {
     "name": "stderr",
     "output_type": "stream",
     "text": [
      "INFO:manta.server.manager:Starting PIPESIM server on thread ID: 21196\n",
      "INFO:manta.server.manager:Python toolkit license is checked out successfully\n",
      "INFO:manta.server.manager:Waiting for PIPESIM server to start.\n",
      "INFO:sixgill.core.metadata:Using cached metadata for 'http://localhost:55207/api/metadata#'\n"
     ]
    }
   ],
   "source": [
    "model = Model.open(\n",
    "    r\"C:\\Users\\IDM252577\\Desktop\\Python Projects\\PIPSIM\\Models\\O-Max_S-HP_trail.pips\"\n",
    ")"
   ]
  },
  {
   "cell_type": "code",
   "execution_count": 6,
   "metadata": {},
   "outputs": [
    {
     "data": {
      "text/plain": [
       "defaultdict(dict,\n",
       "            {'Sk-1': {'Name': 'Sk-1',\n",
       "              'GasFlowRate': None,\n",
       "              'LiquidFlowRate': 1111.0,\n",
       "              'MassFlowRate': None,\n",
       "              'Pressure': None,\n",
       "              'IsActive': True,\n",
       "              'FlowrateType': 'LiquidFlowRate'},\n",
       "             'Sk-2': {'Name': 'Sk-2',\n",
       "              'GasFlowRate': None,\n",
       "              'LiquidFlowRate': 2222.0,\n",
       "              'MassFlowRate': None,\n",
       "              'Pressure': None,\n",
       "              'IsActive': True,\n",
       "              'FlowrateType': 'LiquidFlowRate'},\n",
       "             'Sk-4': {'Name': 'Sk-4',\n",
       "              'GasFlowRate': None,\n",
       "              'LiquidFlowRate': 100.0,\n",
       "              'MassFlowRate': None,\n",
       "              'Pressure': None,\n",
       "              'IsActive': True,\n",
       "              'FlowrateType': 'LiquidFlowRate'},\n",
       "             'Sk-3': {'Name': 'Sk-3',\n",
       "              'GasFlowRate': None,\n",
       "              'LiquidFlowRate': 0.0001,\n",
       "              'MassFlowRate': None,\n",
       "              'Pressure': None,\n",
       "              'IsActive': False,\n",
       "              'FlowrateType': 'LiquidFlowRate'}})"
      ]
     },
     "execution_count": 6,
     "metadata": {},
     "output_type": "execute_result"
    }
   ],
   "source": [
    "model.get_values(component=\"Sink\")"
   ]
  },
  {
   "cell_type": "code",
   "execution_count": 7,
   "metadata": {},
   "outputs": [
    {
     "data": {
      "text/plain": [
       "defaultdict(dict,\n",
       "            {'Src-1': {'BoundaryNodeType': 'Source',\n",
       "              'WellName': None,\n",
       "              'BoundaryNodeName': 'Src-1',\n",
       "              'IsActive': True,\n",
       "              'UsePQCurve': False,\n",
       "              'IsSurfaceCondition': True,\n",
       "              'Temperature': 50.00000000000006,\n",
       "              'Pressure': 99.99999999999999,\n",
       "              'FlowRateType': 'LiquidFlowRate',\n",
       "              'GasFlowRate': None,\n",
       "              'LiquidFlowRate': None,\n",
       "              'MassFlowRate': None,\n",
       "              'UseGasRatio': 'GLR',\n",
       "              'GOR': None,\n",
       "              'OGR': None,\n",
       "              'GLR': None,\n",
       "              'LGR': None,\n",
       "              'UseWaterRatio': 'WaterCut',\n",
       "              'WaterCut': None,\n",
       "              'GWR': None,\n",
       "              'WGR': None,\n",
       "              'CompletionName': '',\n",
       "              'IsBottomCompletion': False},\n",
       "             'Sk-1': {'BoundaryNodeType': 'Sink',\n",
       "              'WellName': None,\n",
       "              'BoundaryNodeName': 'Sk-1',\n",
       "              'IsActive': True,\n",
       "              'UsePQCurve': False,\n",
       "              'IsSurfaceCondition': True,\n",
       "              'Temperature': None,\n",
       "              'Pressure': None,\n",
       "              'FlowRateType': 'LiquidFlowRate',\n",
       "              'GasFlowRate': None,\n",
       "              'LiquidFlowRate': 1111.0,\n",
       "              'MassFlowRate': None,\n",
       "              'UseGasRatio': 'GLR',\n",
       "              'GOR': None,\n",
       "              'OGR': None,\n",
       "              'GLR': None,\n",
       "              'LGR': None,\n",
       "              'UseWaterRatio': 'WaterCut',\n",
       "              'WaterCut': None,\n",
       "              'GWR': None,\n",
       "              'WGR': None,\n",
       "              'CompletionName': '',\n",
       "              'IsBottomCompletion': False},\n",
       "             'Sk-2': {'BoundaryNodeType': 'Sink',\n",
       "              'WellName': None,\n",
       "              'BoundaryNodeName': 'Sk-2',\n",
       "              'IsActive': True,\n",
       "              'UsePQCurve': False,\n",
       "              'IsSurfaceCondition': True,\n",
       "              'Temperature': None,\n",
       "              'Pressure': None,\n",
       "              'FlowRateType': 'LiquidFlowRate',\n",
       "              'GasFlowRate': None,\n",
       "              'LiquidFlowRate': 2222.0,\n",
       "              'MassFlowRate': None,\n",
       "              'UseGasRatio': 'GLR',\n",
       "              'GOR': None,\n",
       "              'OGR': None,\n",
       "              'GLR': None,\n",
       "              'LGR': None,\n",
       "              'UseWaterRatio': 'WaterCut',\n",
       "              'WaterCut': None,\n",
       "              'GWR': None,\n",
       "              'WGR': None,\n",
       "              'CompletionName': '',\n",
       "              'IsBottomCompletion': False},\n",
       "             'Sk-4': {'BoundaryNodeType': 'Sink',\n",
       "              'WellName': None,\n",
       "              'BoundaryNodeName': 'Sk-4',\n",
       "              'IsActive': True,\n",
       "              'UsePQCurve': False,\n",
       "              'IsSurfaceCondition': True,\n",
       "              'Temperature': None,\n",
       "              'Pressure': None,\n",
       "              'FlowRateType': 'LiquidFlowRate',\n",
       "              'GasFlowRate': None,\n",
       "              'LiquidFlowRate': 100.0,\n",
       "              'MassFlowRate': None,\n",
       "              'UseGasRatio': 'GLR',\n",
       "              'GOR': None,\n",
       "              'OGR': None,\n",
       "              'GLR': None,\n",
       "              'LGR': None,\n",
       "              'UseWaterRatio': 'WaterCut',\n",
       "              'WaterCut': None,\n",
       "              'GWR': None,\n",
       "              'WGR': None,\n",
       "              'CompletionName': '',\n",
       "              'IsBottomCompletion': False}})"
      ]
     },
     "execution_count": 7,
     "metadata": {},
     "output_type": "execute_result"
    }
   ],
   "source": [
    "model.tasks.networksimulation.reset_conditions()\n",
    "model.tasks.networksimulation.get_conditions()"
   ]
  }
 ],
 "metadata": {
  "kernelspec": {
   "display_name": "base",
   "language": "python",
   "name": "python3"
  },
  "language_info": {
   "codemirror_mode": {
    "name": "ipython",
    "version": 3
   },
   "file_extension": ".py",
   "mimetype": "text/x-python",
   "name": "python",
   "nbconvert_exporter": "python",
   "pygments_lexer": "ipython3",
   "version": "3.11.7"
  }
 },
 "nbformat": 4,
 "nbformat_minor": 2
}
