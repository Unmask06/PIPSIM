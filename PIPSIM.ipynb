{
 "cells": [
  {
   "cell_type": "code",
   "execution_count": 1,
   "metadata": {},
   "outputs": [],
   "source": [
    "import json\n",
    "import logging\n",
    "import os\n",
    "import traceback\n",
    "from pathlib import Path\n",
    "from typing import Dict, List\n",
    "\n",
    "import pandas as pd\n",
    "import xlwings as xw\n",
    "from sixgill.definitions import *\n",
    "from sixgill.pipesim import Model, Units\n",
    "from pydantic import ValidationError\n",
    "from core import NetworkSimulation, PipSimInput"
   ]
  },
  {
   "cell_type": "code",
   "execution_count": 2,
   "metadata": {},
   "outputs": [
    {
     "name": "stderr",
     "output_type": "stream",
     "text": [
      "INFO:Input Validation:PIPSIM Input Validation Successful\n",
      "INFO:Input Validation:PIPSIM Input Validation Successful\n"
     ]
    }
   ],
   "source": [
    "with open(\"inputs.json\", \"r\") as f:\n",
    "    config = json.load(f)\n",
    "\n",
    "try:\n",
    "    config = PipSimInput(**config)\n",
    "    FOLDER_DIRECTORY = config.FOLDER_DIRECTORY\n",
    "    MODEL_FILENAME = config.MODEL_FILENAME\n",
    "    EXCEL_FILE = config.EXCEL_FILE\n",
    "    PIPSIM_INPUT_SHEET = config.PIPSIM_INPUT_SHEET\n",
    "    CONDITIONS_SHEET = config.CONDITIONS_SHEET\n",
    "    SOURCE_NAME = config.SOURCE_NAME\n",
    "    PUMP_NAME = config.PUMP_NAME\n",
    "except (ValidationError, KeyError) as e:\n",
    "    logging.error(e)\n",
    "\n",
    "#"
   ]
  },
  {
   "cell_type": "code",
   "execution_count": 3,
   "metadata": {},
   "outputs": [
    {
     "data": {
      "text/plain": [
       "['NorthHeader_Max_S-HP-EO_BAB HP.pips']"
      ]
     },
     "execution_count": 3,
     "metadata": {},
     "output_type": "execute_result"
    }
   ],
   "source": [
    "pipsim_files = [file for file in os.listdir(FOLDER_DIRECTORY) if file.endswith(\".pips\")]\n",
    "pipsim_files = pipsim_files[1:2]\n",
    "pipsim_files"
   ]
  },
  {
   "cell_type": "code",
   "execution_count": 4,
   "metadata": {},
   "outputs": [
    {
     "name": "stderr",
     "output_type": "stream",
     "text": [
      "INFO:NetworkSimulation:------------Network Simulation Object Created----------------\n",
      "Model Path: c:\\Users\\IDM252577\\Desktop\\Python Projects\\PIPSIM\\NorthHeader_Max_S-HP-EO_BAB HP.pips\n",
      "\n",
      "INFO:manta.server.manager:Starting PIPESIM server on thread ID: 4312\n",
      "INFO:manta.server.manager:Python toolkit license is checked out successfully\n",
      "INFO:manta.server.manager:Waiting for PIPESIM server to start.\n",
      "INFO:NetworkSimulation:Getting boundary conditions.....\n",
      "INFO:sixgill.core.run_or_start_simulation:Simulation is running.\n",
      "INFO:sixgill.core.run_or_start_simulation:Simulation is running.\n",
      "INFO:sixgill.core.run_or_start_simulation:Simulation is running.\n",
      "INFO:sixgill.core.run_or_start_simulation:Simulation is running.\n",
      "INFO:sixgill.core.run_or_start_simulation:Simulation is running.\n",
      "INFO:sixgill.core.run_or_start_simulation:Simulation is running.\n",
      "INFO:sixgill.core.run_or_start_simulation:Simulation is running.\n",
      "INFO:sixgill.core.run_or_start_simulation:Simulation is running.\n",
      "INFO:sixgill.core.run_or_start_simulation:Simulation is finished.\n",
      "INFO:sixgill.core.run_or_start_simulation:Simulation run successfully.\n",
      "ERROR:root:J 160_ST-2101-01_J 150\n",
      "ERROR:root:J 160_ST-2102-01_J 150\n",
      "INFO:NetworkSimulation:Simulation run Successful\n",
      "INFO:NetworkSimulation:Converting units.....\n",
      "INFO:NetworkSimulation:Results written to excel\n",
      "INFO:NetworkSimulation:Model saved as NorthHeader_Max_S-HP-EO_BAB HP.pips\n",
      "INFO:NetworkSimulation:------------Network Simulation Object Closed----------------\n",
      "\n"
     ]
    }
   ],
   "source": [
    "for MODEL_FILENAME in pipsim_files:\n",
    "    ns = NetworkSimulation(FOLDER_DIRECTORY, MODEL_FILENAME, EXCEL_FILE)\n",
    "    ns.initialize_excel_handler(PIPSIM_INPUT_SHEET, CONDITIONS_SHEET)\n",
    "    ns.run_app()"
   ]
  },
  {
   "cell_type": "code",
   "execution_count": null,
   "metadata": {},
   "outputs": [],
   "source": []
  }
 ],
 "metadata": {
  "kernelspec": {
   "display_name": "base",
   "language": "python",
   "name": "python3"
  },
  "language_info": {
   "codemirror_mode": {
    "name": "ipython",
    "version": 3
   },
   "file_extension": ".py",
   "mimetype": "text/x-python",
   "name": "python",
   "nbconvert_exporter": "python",
   "pygments_lexer": "ipython3",
   "version": "3.11.7"
  }
 },
 "nbformat": 4,
 "nbformat_minor": 2
}
