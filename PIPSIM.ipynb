{
 "cells": [
  {
   "cell_type": "code",
   "execution_count": 1,
   "metadata": {},
   "outputs": [],
   "source": [
    "from core.simulation_modeller import PipsimModel, ModelInput, PipsimModeller\n",
    "from pathlib import Path\n",
    "from core.input_validation import PipSimInput\n",
    "from wave_hydraulics import load_config\n",
    "from core.inputdata import InputData\n",
    "import pandas as pd"
   ]
  },
  {
   "cell_type": "code",
   "execution_count": 2,
   "metadata": {},
   "outputs": [
    {
     "name": "stderr",
     "output_type": "stream",
     "text": [
      "INFO:wave_hydraulics:Input file loaded successfully.\n"
     ]
    }
   ],
   "source": [
    "pipsim_input = load_config(\"inputs.json\")"
   ]
  },
  {
   "cell_type": "code",
   "execution_count": 3,
   "metadata": {},
   "outputs": [],
   "source": [
    "input_data = InputData(\n",
    "    excelfile=pipsim_input.EXCEL_FILE,\n",
    "    well_profile_sheet=pipsim_input.PIPSIM_INPUT_SHEET,\n",
    "    well_profile_starting_range=\"A4\",\n",
    "    conditions_sheet=pipsim_input.CONDITIONS_SHEET,\n",
    "    conditions_starting_range=\"A2\",\n",
    ")"
   ]
  },
  {
   "cell_type": "code",
   "execution_count": 4,
   "metadata": {},
   "outputs": [
    {
     "data": {
      "text/plain": [
       "('Overall_Max', 'W-LP-EO')"
      ]
     },
     "execution_count": 4,
     "metadata": {},
     "output_type": "execute_result"
    }
   ],
   "source": [
    "(case, condition) = input_data.case_conditions[0]\n",
    "(case, condition)"
   ]
  },
  {
   "cell_type": "code",
   "execution_count": 7,
   "metadata": {},
   "outputs": [
    {
     "name": "stdout",
     "output_type": "stream",
     "text": [
      "No match found\n"
     ]
    }
   ],
   "source": [
    "import re\n",
    "\n",
    "# Sample string\n",
    "filename = \"O-Max_S-HP_BAB LP.pips\"\n",
    "\n",
    "# Regex pattern to extract different parts of the string\n",
    "# Explanation:\n",
    "# - ([^\\_]+): Matches and captures the prefix before the first underscore (non-greedy).\n",
    "# - _([^_]+): Matches the underscore and captures the next segment until the next underscore (non-greedy).\n",
    "# - _([^ ]+): Matches the underscore and captures the next segment until a space (non-greedy).\n",
    "# - (\\.\\w+)$: Matches and captures the file extension at the end of the string.\n",
    "pattern = r\"([^\\_]+)_([^_]+)_([^ ]+) (\\.\\w+)$\"\n",
    "\n",
    "# Perform regex match\n",
    "match = re.match(pattern, filename)\n",
    "\n",
    "if match:\n",
    "    # Extracted parts\n",
    "    part1, part2, part3, extension = match.groups()\n",
    "    print(f\"Part 1: {part1}\")\n",
    "    print(f\"Part 2: {part2}\")\n",
    "    print(f\"Part 3: {part3}\")\n",
    "    print(f\"Extension: {extension}\")\n",
    "else:\n",
    "    print(\"No match found\")"
   ]
  },
  {
   "cell_type": "code",
   "execution_count": null,
   "metadata": {},
   "outputs": [],
   "source": []
  }
 ],
 "metadata": {
  "kernelspec": {
   "display_name": "base",
   "language": "python",
   "name": "python3"
  },
  "language_info": {
   "codemirror_mode": {
    "name": "ipython",
    "version": 3
   },
   "file_extension": ".py",
   "mimetype": "text/x-python",
   "name": "python",
   "nbconvert_exporter": "python",
   "pygments_lexer": "ipython3",
   "version": "3.11.7"
  }
 },
 "nbformat": 4,
 "nbformat_minor": 2
}
