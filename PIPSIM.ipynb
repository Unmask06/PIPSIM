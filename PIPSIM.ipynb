{
 "cells": [
  {
   "cell_type": "code",
   "execution_count": 1,
   "metadata": {},
   "outputs": [],
   "source": [
    "from core.simulation_modeller import MultiCaseModeller\n",
    "from sixgill.definitions import ModelComponents, Parameters"
   ]
  },
  {
   "cell_type": "code",
   "execution_count": 2,
   "metadata": {},
   "outputs": [
    {
     "name": "stderr",
     "output_type": "stream",
     "text": [
      "INFO:manta.server.manager:Starting PIPESIM server on thread ID: 22816\n",
      "INFO:manta.server.manager:Waiting for PIPESIM server to start.\n",
      "INFO:manta.server.manager:Python toolkit license is checked out successfully\n",
      "INFO:manta.server.manager:Waiting for PIPESIM server to start.\n",
      "INFO:manta.server.manager:Waiting for PIPESIM server to start.\n"
     ]
    }
   ],
   "source": [
    "modeller = MultiCaseModeller(\n",
    "    base_model_path=\"RDS1_max Flow_Summer.pips\",\n",
    "    excel_path=\"Water Injection Profile for BAB LP.xlsx\",\n",
    "    sink_profile_sheet=\"well profile\",\n",
    "    condition_sheet=\"conditions\",\n",
    ")"
   ]
  },
  {
   "cell_type": "code",
   "execution_count": 3,
   "metadata": {},
   "outputs": [],
   "source": [
    "case, condition = \"O-Max\", \"S-HP\""
   ]
  },
  {
   "cell_type": "code",
   "execution_count": 4,
   "metadata": {},
   "outputs": [
    {
     "name": "stderr",
     "output_type": "stream",
     "text": [
      "INFO:core.simulation_modeller:Set simulation settings for condition: S-HP\n"
     ]
    }
   ],
   "source": [
    "modeller.set_simulation_settings(condition)"
   ]
  },
  {
   "cell_type": "code",
   "execution_count": 5,
   "metadata": {},
   "outputs": [
    {
     "name": "stderr",
     "output_type": "stream",
     "text": [
      "INFO:core.simulation_modeller:Set parameters for condition: S-HP\n"
     ]
    }
   ],
   "source": [
    "modeller.set_parameters_dict(condition)"
   ]
  },
  {
   "cell_type": "code",
   "execution_count": 6,
   "metadata": {},
   "outputs": [
    {
     "name": "stderr",
     "output_type": "stream",
     "text": [
      "INFO:core.simulation_modeller:Set sink data for case: O-Max\n"
     ]
    }
   ],
   "source": [
    "modeller.set_sink_data(case, parameter=Parameters.Sink.GASFLOWRATE)"
   ]
  },
  {
   "cell_type": "code",
   "execution_count": 7,
   "metadata": {},
   "outputs": [
    {
     "data": {
      "text/plain": [
       "defaultdict(dict,\n",
       "            {'Sk101': {'Name': 'Sk101',\n",
       "              'GasFlowRate': 100.0,\n",
       "              'LiquidFlowRate': None,\n",
       "              'MassFlowRate': None,\n",
       "              'Pressure': None,\n",
       "              'IsActive': True,\n",
       "              'FlowrateType': 'GasFlowRate'},\n",
       "             'SINK102': {'Name': 'SINK102',\n",
       "              'GasFlowRate': 0.0001,\n",
       "              'LiquidFlowRate': None,\n",
       "              'MassFlowRate': None,\n",
       "              'Pressure': None,\n",
       "              'IsActive': False,\n",
       "              'FlowrateType': 'GasFlowRate'}})"
      ]
     },
     "execution_count": 7,
     "metadata": {},
     "output_type": "execute_result"
    }
   ],
   "source": [
    "modeller.model.get_values(component=ModelComponents.SINK)"
   ]
  },
  {
   "cell_type": "code",
   "execution_count": 8,
   "metadata": {},
   "outputs": [],
   "source": []
  }
 ],
 "metadata": {
  "kernelspec": {
   "display_name": "base",
   "language": "python",
   "name": "python3"
  },
  "language_info": {
   "codemirror_mode": {
    "name": "ipython",
    "version": 3
   },
   "file_extension": ".py",
   "mimetype": "text/x-python",
   "name": "python",
   "nbconvert_exporter": "python",
   "pygments_lexer": "ipython3",
   "version": "3.11.7"
  }
 },
 "nbformat": 4,
 "nbformat_minor": 2
}
