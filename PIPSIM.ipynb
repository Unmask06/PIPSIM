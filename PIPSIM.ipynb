{
 "cells": [
  {
   "cell_type": "code",
   "execution_count": 1,
   "metadata": {},
   "outputs": [],
   "source": [
    "import tkinter as tk\n",
    "from tkinter import ttk\n",
    "from project import generate_dict_from_class\n",
    "from sixgill.definitions import Parameters\n",
    "from widgets import DualCascadeListBox"
   ]
  },
  {
   "cell_type": "code",
   "execution_count": null,
   "metadata": {},
   "outputs": [],
   "source": [
    "root = tk.Tk()\n",
    "root.title(\"Main Application\")\n",
    "root.geometry(\"300x200\")\n",
    "\n",
    "\n",
    "def open_dual_cascade_listbox():\n",
    "    DualCascadeListBox(\n",
    "        root, \"Dual Cascade Listbox\", generate_dict_from_class(Parameters)\n",
    "    )\n",
    "\n",
    "\n",
    "open_button = ttk.Button(\n",
    "    root, text=\"Open Dual Cascade ListBox\", command=open_dual_cascade_listbox\n",
    ")\n",
    "open_button.pack(pady=20)\n",
    "\n",
    "root.mainloop()"
   ]
  }
 ],
 "metadata": {
  "kernelspec": {
   "display_name": "base",
   "language": "python",
   "name": "python3"
  },
  "language_info": {
   "codemirror_mode": {
    "name": "ipython",
    "version": 3
   },
   "file_extension": ".py",
   "mimetype": "text/x-python",
   "name": "python",
   "nbconvert_exporter": "python",
   "pygments_lexer": "ipython3",
   "version": "3.11.7"
  }
 },
 "nbformat": 4,
 "nbformat_minor": 2
}
