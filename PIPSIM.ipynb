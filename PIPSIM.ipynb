{
 "cells": [
  {
   "cell_type": "code",
   "execution_count": 1,
   "metadata": {},
   "outputs": [],
   "source": [
    "from core.multi_case_modeller import MultiCaseModeller\n",
    "from sixgill.definitions import ModelComponents, Parameters\n",
    "from sixgill.pipesim import Model, Units\n",
    "from core import ExcelInputError\n",
    "from project import (\n",
    "    get_string_values_from_class,\n",
    "    generate_dict_from_class,\n",
    "    get_class_by_name,\n",
    ")\n",
    "import pandas as pd\n",
    "from core.network_simulation import NetworkSimulator"
   ]
  },
  {
   "cell_type": "code",
   "execution_count": 2,
   "metadata": {},
   "outputs": [],
   "source": [
    "m = r\"F:\\Project\\AET01083.00 Wave-Component_3A\\09. Documents, Drawings\\9.31 Process\\09.31.01 Current documents\\BAB Pump Hydraulics\\1. HP Model\\Rev 2\\Models\\Overall-Max_W-LP-EO_BAB HP.pips\""
   ]
  },
  {
   "cell_type": "code",
   "execution_count": null,
   "metadata": {},
   "outputs": [],
   "source": [
    "ns = NetworkSimulator(m)\n",
    "ns.run_existing_model()"
   ]
  },
  {
   "cell_type": "code",
   "execution_count": null,
   "metadata": {},
   "outputs": [],
   "source": []
  },
  {
   "cell_type": "code",
   "execution_count": null,
   "metadata": {},
   "outputs": [],
   "source": []
  }
 ],
 "metadata": {
  "kernelspec": {
   "display_name": "base",
   "language": "python",
   "name": "python3"
  },
  "language_info": {
   "codemirror_mode": {
    "name": "ipython",
    "version": 3
   },
   "file_extension": ".py",
   "mimetype": "text/x-python",
   "name": "python",
   "nbconvert_exporter": "python",
   "pygments_lexer": "ipython3",
   "version": "3.11.7"
  }
 },
 "nbformat": 4,
 "nbformat_minor": 2
}
