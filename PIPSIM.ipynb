{
 "cells": [
  {
   "cell_type": "code",
   "execution_count": 3,
   "metadata": {},
   "outputs": [],
   "source": [
    "from sixgill.definitions import ModelComponents\n",
    "from app.project import get_string_values_from_class"
   ]
  },
  {
   "cell_type": "code",
   "execution_count": 4,
   "metadata": {},
   "outputs": [
    {
     "data": {
      "text/plain": [
       "['BlackOilFluid',\n",
       " 'Boundary',\n",
       " 'Casing',\n",
       " 'CheckValve',\n",
       " 'Choke',\n",
       " 'Completion',\n",
       " 'CompletionConingPoint',\n",
       " 'CompletionModel',\n",
       " 'CompositionalFluid',\n",
       " 'Compressor',\n",
       " 'ESP',\n",
       " 'EngineKeywords',\n",
       " 'Expander',\n",
       " 'FileBasedFluid',\n",
       " 'FlowControlValve',\n",
       " 'FlowCorrelation',\n",
       " 'Flowline',\n",
       " 'FluidComponent',\n",
       " 'GLDiagnosticsOp',\n",
       " 'GasLiftInjection',\n",
       " 'GenericBooster',\n",
       " 'GenericEquipment',\n",
       " 'GlobalCatalog',\n",
       " 'GravelPack',\n",
       " 'HeatExchanger',\n",
       " 'HeatTransferOptions',\n",
       " 'IPRBackPressure',\n",
       " 'IPRDarcy',\n",
       " 'IPRFetkovitch',\n",
       " 'IPRForchheimer',\n",
       " 'IPRHorizontalPI',\n",
       " 'IPRHydraulicFracture',\n",
       " 'IPRJones',\n",
       " 'IPRPIModel',\n",
       " 'IPRPSSBabuOdeh',\n",
       " 'IPRSSJoshi',\n",
       " 'IPRTriLinear',\n",
       " 'IPRVogel',\n",
       " 'Injector',\n",
       " 'Junction',\n",
       " 'Liner',\n",
       " 'MFLFluid',\n",
       " 'MeasurementPoint',\n",
       " 'MultiphaseBooster',\n",
       " 'MultiplierAdder',\n",
       " 'NetworkOptSim',\n",
       " 'NetworkSim',\n",
       " 'NodalAnalysisOp',\n",
       " 'OneSubseaBooster',\n",
       " 'OpenHole',\n",
       " 'PCP',\n",
       " 'PTProfileSim',\n",
       " 'PVTFluid',\n",
       " 'Packer',\n",
       " 'Pump',\n",
       " 'RiskIndexLimits',\n",
       " 'RodPump',\n",
       " 'SinglephaseSeparator',\n",
       " 'Sink',\n",
       " 'SlidingSleeve',\n",
       " 'Source',\n",
       " 'SpotReport',\n",
       " 'Study',\n",
       " 'SubsurfaceSafetyValve',\n",
       " 'SystemAnalysisOp',\n",
       " 'ThreePhaseSeparator',\n",
       " 'Tubing',\n",
       " 'TubingPlug',\n",
       " 'TwoPhaseSeparator',\n",
       " 'VfpTablesOp',\n",
       " 'WaterTempVelocitySurvey',\n",
       " 'Well',\n",
       " 'WellPerformanceCurvesSim',\n",
       " 'WetGasCompressor']"
      ]
     },
     "execution_count": 4,
     "metadata": {},
     "output_type": "execute_result"
    }
   ],
   "source": [
    "get_string_values_from_class(ModelComponents)"
   ]
  },
  {
   "cell_type": "code",
   "execution_count": null,
   "metadata": {},
   "outputs": [],
   "source": []
  }
 ],
 "metadata": {
  "kernelspec": {
   "display_name": "base",
   "language": "python",
   "name": "python3"
  },
  "language_info": {
   "codemirror_mode": {
    "name": "ipython",
    "version": 3
   },
   "file_extension": ".py",
   "mimetype": "text/x-python",
   "name": "python",
   "nbconvert_exporter": "python",
   "pygments_lexer": "ipython3",
   "version": "3.11.7"
  }
 },
 "nbformat": 4,
 "nbformat_minor": 2
}
