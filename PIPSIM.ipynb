{
 "cells": [
  {
   "cell_type": "code",
   "execution_count": 1,
   "metadata": {},
   "outputs": [],
   "source": [
    "import os\n",
    "import logging\n",
    "import traceback\n",
    "import pandas as pd\n",
    "import xlwings as xw\n",
    "\n",
    "from sixgill.definitions import *\n",
    "from sixgill.pipesim import Model, Units\n",
    "\n",
    "from core import NetworkSimulation, ExcelHandler, UnitConversion"
   ]
  },
  {
   "cell_type": "code",
   "execution_count": 2,
   "metadata": {},
   "outputs": [],
   "source": [
    "# Constants\n",
    "FOLDER_DIRECTORY = r\"c:\\Users\\IDM252577\\Desktop\\Python Projects\\PIPSIM\"\n",
    "MODEL_FILENAME = \"BAB HP.pips\"\n",
    "EXCEL_FILE = \"Water Injection Profile for BAB HP.xlsx\"\n",
    "\n",
    "SOURCE_NAME: str = \"Sea Water Supply\"\n",
    "PUMP_NAME: list = [\"HP Pump\", \"HP PUMP 2\"]"
   ]
  },
  {
   "cell_type": "code",
   "execution_count": 3,
   "metadata": {},
   "outputs": [],
   "source": [
    "# pipsim_files = [file for file in os.listdir(FOLDER_DIRECTORY) if file.endswith(\".pips\")]\n",
    "# # pipsim_files = [pipsim_files[1]]\n",
    "# for MODEL_FILENAME in pipsim_files:\n",
    "#     ns = NetworkSimulation(FOLDER_DIRECTORY, MODEL_FILENAME, EXCEL_FILE)\n",
    "#     ns.open_model()\n",
    "#     ns.get_boundary_conditions()\n",
    "#     ns.run_simulation()\n",
    "#     ns.model.save()\n",
    "#     ns.process_results()\n",
    "#     ns.do_units_conversion = True\n",
    "#     ns.convert_units()\n",
    "#     ns.write_results_to_excel(update=True)"
   ]
  },
  {
   "cell_type": "code",
   "execution_count": 4,
   "metadata": {},
   "outputs": [
    {
     "name": "stderr",
     "output_type": "stream",
     "text": [
      "INFO:core.network_simulation:------------Network Simulation Object Created----------------\n",
      "\n"
     ]
    }
   ],
   "source": [
    "ns = NetworkSimulation(FOLDER_DIRECTORY, MODEL_FILENAME, EXCEL_FILE)"
   ]
  },
  {
   "cell_type": "code",
   "execution_count": 5,
   "metadata": {},
   "outputs": [
    {
     "name": "stderr",
     "output_type": "stream",
     "text": [
      "INFO:manta.server.manager:Starting PIPESIM server on thread ID: 9292\n",
      "INFO:manta.server.manager:Waiting for PIPESIM server to start.\n",
      "INFO:manta.server.manager:Python toolkit license is checked out successfully\n",
      "INFO:manta.server.manager:Waiting for PIPESIM server to start.\n",
      "INFO:core.network_simulation:Getting boundary conditions.....\n",
      "INFO:sixgill.core.run_or_start_simulation:Simulation is running.\n",
      "INFO:sixgill.core.run_or_start_simulation:Simulation is running.\n",
      "INFO:sixgill.core.run_or_start_simulation:Simulation is running.\n",
      "INFO:sixgill.core.run_or_start_simulation:Simulation is running.\n",
      "INFO:sixgill.core.run_or_start_simulation:Simulation is running.\n",
      "INFO:sixgill.core.run_or_start_simulation:Simulation is running.\n",
      "INFO:sixgill.core.run_or_start_simulation:Simulation is running.\n",
      "INFO:sixgill.core.run_or_start_simulation:Simulation is running.\n",
      "INFO:sixgill.core.run_or_start_simulation:Simulation is running.\n",
      "INFO:sixgill.core.run_or_start_simulation:Simulation is running.\n",
      "INFO:sixgill.core.run_or_start_simulation:Simulation is running.\n",
      "INFO:sixgill.core.run_or_start_simulation:Simulation is running.\n",
      "INFO:sixgill.core.run_or_start_simulation:Simulation is running.\n",
      "INFO:sixgill.core.run_or_start_simulation:Simulation is finished.\n",
      "INFO:sixgill.core.run_or_start_simulation:Simulation run successfully.\n"
     ]
    }
   ],
   "source": [
    "ns.open_model()\n",
    "ns.get_boundary_conditions()\n",
    "ns.run_simulation()"
   ]
  },
  {
   "cell_type": "code",
   "execution_count": 6,
   "metadata": {},
   "outputs": [
    {
     "name": "stderr",
     "output_type": "stream",
     "text": [
      "ERROR:root:J 160_ST-2101-01_J 150\n",
      "ERROR:root:J 160_ST-2102-01_J 150\n",
      "INFO:core.network_simulation:Simulation run Successful\n"
     ]
    }
   ],
   "source": [
    "ns.process_results()"
   ]
  },
  {
   "cell_type": "code",
   "execution_count": 7,
   "metadata": {},
   "outputs": [
    {
     "name": "stderr",
     "output_type": "stream",
     "text": [
      "INFO:core.network_simulation:Converting units.....\n"
     ]
    }
   ],
   "source": [
    "ns.do_units_conversion = True\n",
    "ns.convert_units()"
   ]
  },
  {
   "cell_type": "code",
   "execution_count": 8,
   "metadata": {},
   "outputs": [
    {
     "data": {
      "text/html": [
       "<div>\n",
       "<style scoped>\n",
       "    .dataframe tbody tr th:only-of-type {\n",
       "        vertical-align: middle;\n",
       "    }\n",
       "\n",
       "    .dataframe tbody tr th {\n",
       "        vertical-align: top;\n",
       "    }\n",
       "\n",
       "    .dataframe thead th {\n",
       "        text-align: right;\n",
       "    }\n",
       "</style>\n",
       "<table border=\"1\" class=\"dataframe\">\n",
       "  <thead>\n",
       "    <tr style=\"text-align: right;\">\n",
       "      <th></th>\n",
       "      <th>Type</th>\n",
       "      <th>Pressure</th>\n",
       "      <th>Temperature</th>\n",
       "      <th>VolumeFlowrateWaterStockTank</th>\n",
       "    </tr>\n",
       "  </thead>\n",
       "  <tbody>\n",
       "    <tr>\n",
       "      <th>Unit</th>\n",
       "      <td>None</td>\n",
       "      <td>barg</td>\n",
       "      <td>degC</td>\n",
       "      <td>STB/d</td>\n",
       "    </tr>\n",
       "    <tr>\n",
       "      <th>WIF13</th>\n",
       "      <td>Sink</td>\n",
       "      <td>225.508984</td>\n",
       "      <td>15.012276</td>\n",
       "      <td>870.180003</td>\n",
       "    </tr>\n",
       "    <tr>\n",
       "      <th>J 264</th>\n",
       "      <td>None</td>\n",
       "      <td>224.543121</td>\n",
       "      <td>15.903868</td>\n",
       "      <td>1241.060004</td>\n",
       "    </tr>\n",
       "    <tr>\n",
       "      <th>J 42</th>\n",
       "      <td>None</td>\n",
       "      <td>221.351776</td>\n",
       "      <td>23.637297</td>\n",
       "      <td>6340.170023</td>\n",
       "    </tr>\n",
       "    <tr>\n",
       "      <th>FT-2100-08</th>\n",
       "      <td>None</td>\n",
       "      <td>229.372864</td>\n",
       "      <td>35.530193</td>\n",
       "      <td>79656.578188</td>\n",
       "    </tr>\n",
       "    <tr>\n",
       "      <th>...</th>\n",
       "      <td>...</td>\n",
       "      <td>...</td>\n",
       "      <td>...</td>\n",
       "      <td>...</td>\n",
       "    </tr>\n",
       "    <tr>\n",
       "      <th>J 255</th>\n",
       "      <td>None</td>\n",
       "      <td>225.489882</td>\n",
       "      <td>24.465791</td>\n",
       "      <td>50806.158083</td>\n",
       "    </tr>\n",
       "    <tr>\n",
       "      <th>J 178</th>\n",
       "      <td>None</td>\n",
       "      <td>223.896498</td>\n",
       "      <td>19.913203</td>\n",
       "      <td>2572.660009</td>\n",
       "    </tr>\n",
       "    <tr>\n",
       "      <th>J 261</th>\n",
       "      <td>None</td>\n",
       "      <td>223.963711</td>\n",
       "      <td>17.795154</td>\n",
       "      <td>705.300003</td>\n",
       "    </tr>\n",
       "    <tr>\n",
       "      <th>J 283</th>\n",
       "      <td>None</td>\n",
       "      <td>223.822604</td>\n",
       "      <td>22.131494</td>\n",
       "      <td>1000.000004</td>\n",
       "    </tr>\n",
       "    <tr>\n",
       "      <th>BB-0681</th>\n",
       "      <td>Sink</td>\n",
       "      <td>222.748715</td>\n",
       "      <td>19.046548</td>\n",
       "      <td>1374.300005</td>\n",
       "    </tr>\n",
       "  </tbody>\n",
       "</table>\n",
       "<p>364 rows × 4 columns</p>\n",
       "</div>"
      ],
      "text/plain": [
       "            Type    Pressure Temperature VolumeFlowrateWaterStockTank\n",
       "Unit        None        barg        degC                        STB/d\n",
       "WIF13       Sink  225.508984   15.012276                   870.180003\n",
       "J 264       None  224.543121   15.903868                  1241.060004\n",
       "J 42        None  221.351776   23.637297                  6340.170023\n",
       "FT-2100-08  None  229.372864   35.530193                 79656.578188\n",
       "...          ...         ...         ...                          ...\n",
       "J 255       None  225.489882   24.465791                 50806.158083\n",
       "J 178       None  223.896498   19.913203                  2572.660009\n",
       "J 261       None  223.963711   17.795154                   705.300003\n",
       "J 283       None  223.822604   22.131494                  1000.000004\n",
       "BB-0681     Sink  222.748715   19.046548                  1374.300005\n",
       "\n",
       "[364 rows x 4 columns]"
      ]
     },
     "execution_count": 8,
     "metadata": {},
     "output_type": "execute_result"
    }
   ],
   "source": [
    "ns.node_results"
   ]
  },
  {
   "cell_type": "code",
   "execution_count": 51,
   "metadata": {},
   "outputs": [
    {
     "data": {
      "text/plain": [
       "{'FOLDER_DIRECTORY': 'c:\\\\Users\\\\IDM252577\\\\Desktop\\\\Python Projects\\\\PIPSIM',\n",
       " 'MODEL_FILENAME': 'BAB HP.pips',\n",
       " 'EXCEL_FILE': 'Water Injection Profile for BAB HP.xlsx',\n",
       " 'SOURCE_NAME': 'Sea Water Supply',\n",
       " 'PUMP_NAME': ['HP Pump']}"
      ]
     },
     "execution_count": 51,
     "metadata": {},
     "output_type": "execute_result"
    }
   ],
   "source": []
  },
  {
   "cell_type": "code",
   "execution_count": 44,
   "metadata": {},
   "outputs": [],
   "source": []
  }
 ],
 "metadata": {
  "kernelspec": {
   "display_name": "base",
   "language": "python",
   "name": "python3"
  },
  "language_info": {
   "codemirror_mode": {
    "name": "ipython",
    "version": 3
   },
   "file_extension": ".py",
   "mimetype": "text/x-python",
   "name": "python",
   "nbconvert_exporter": "python",
   "pygments_lexer": "ipython3",
   "version": "3.11.7"
  }
 },
 "nbformat": 4,
 "nbformat_minor": 2
}
