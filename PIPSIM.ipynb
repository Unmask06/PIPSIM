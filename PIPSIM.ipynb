{
 "cells": [
  {
   "cell_type": "code",
   "execution_count": 7,
   "metadata": {},
   "outputs": [],
   "source": [
    "from core.multi_case_modeller import MultiCaseModeller\n",
    "from sixgill.definitions import ModelComponents, Parameters\n",
    "from sixgill.pipesim import Model, Units\n",
    "from core import ExcelInputError\n",
    "from project import (\n",
    "    get_string_values_from_class,\n",
    "    generate_dict_from_class,\n",
    "    get_class_by_name,\n",
    ")"
   ]
  },
  {
   "cell_type": "code",
   "execution_count": 2,
   "metadata": {},
   "outputs": [],
   "source": [
    "m = r\"C:\\Users\\IDM252577\\Desktop\\Python Projects\\PIPSIM\\Models\\O-Max_S-HP_trail.pips\""
   ]
  },
  {
   "cell_type": "code",
   "execution_count": 3,
   "metadata": {},
   "outputs": [
    {
     "name": "stderr",
     "output_type": "stream",
     "text": [
      "INFO:manta.server.manager:Starting PIPESIM server on thread ID: 11344\n",
      "INFO:manta.server.manager:Waiting for PIPESIM server to start.\n",
      "INFO:manta.server.manager:Python toolkit license is checked out successfully\n",
      "INFO:manta.server.manager:Waiting for PIPESIM server to start.\n",
      "INFO:manta.server.manager:Waiting for PIPESIM server to start.\n"
     ]
    }
   ],
   "source": [
    "model = Model.open(m)"
   ]
  },
  {
   "cell_type": "code",
   "execution_count": 5,
   "metadata": {},
   "outputs": [
    {
     "data": {
      "text/plain": [
       "defaultdict(dict,\n",
       "            {'Src-1': {'Name': 'Src-1',\n",
       "              'GLR': None,\n",
       "              'GOR': None,\n",
       "              'GWR': None,\n",
       "              'LGR': None,\n",
       "              'OGR': None,\n",
       "              'UseGasRatio': 'GLR',\n",
       "              'UseWaterRatio': 'WaterCut',\n",
       "              'WaterCut': None,\n",
       "              'WGR': None,\n",
       "              'GasFlowRate': None,\n",
       "              'LiquidFlowRate': None,\n",
       "              'MassFlowRate': None,\n",
       "              'Pressure': 120.0,\n",
       "              'Temperature': 60.0,\n",
       "              'UsePQCurve': False,\n",
       "              'AssociatedBlackOilFluid': 'BOFluid',\n",
       "              'AssociatedCompositionalFluid': None,\n",
       "              'AssociatedMFLFluid': None,\n",
       "              'IsActive': True,\n",
       "              'OverridesInitialized': False,\n",
       "              'UseFluidOverrides': False,\n",
       "              'SelectedRateType': 'LiquidFlowRate'}})"
      ]
     },
     "execution_count": 5,
     "metadata": {},
     "output_type": "execute_result"
    }
   ],
   "source": [
    "model.get_values(component=ModelComponents.SOURCE)"
   ]
  },
  {
   "cell_type": "code",
   "execution_count": 6,
   "metadata": {},
   "outputs": [
    {
     "data": {
      "text/plain": [
       "'AssociatedBlackOilFluid'"
      ]
     },
     "execution_count": 6,
     "metadata": {},
     "output_type": "execute_result"
    }
   ],
   "source": [
    "Parameters.Source.ASSOCIATEDBLACKOILFLUID"
   ]
  },
  {
   "cell_type": "code",
   "execution_count": 8,
   "metadata": {},
   "outputs": [
    {
     "data": {
      "text/plain": [
       "['GLR',\n",
       " 'GOR',\n",
       " 'GWR',\n",
       " 'GasFlowRate',\n",
       " 'LGR',\n",
       " 'LiquidFlowRate',\n",
       " 'MassFlowRate',\n",
       " 'OGR',\n",
       " 'OverridesInitialized',\n",
       " 'PQCurve',\n",
       " 'Pressure',\n",
       " 'SelectedRateType',\n",
       " 'Temperature',\n",
       " 'UseFluidOverrides',\n",
       " 'UseGasRatio',\n",
       " 'UsePQCurve',\n",
       " 'UseWaterRatio',\n",
       " 'WGR',\n",
       " 'WaterCut']"
      ]
     },
     "execution_count": 8,
     "metadata": {},
     "output_type": "execute_result"
    }
   ],
   "source": [
    "get_string_values_from_class(Parameters.Source)"
   ]
  },
  {
   "cell_type": "code",
   "execution_count": 9,
   "metadata": {},
   "outputs": [
    {
     "data": {
      "text/plain": [
       "['GLR',\n",
       " 'GOR',\n",
       " 'GWR',\n",
       " 'GasFlowRate',\n",
       " 'LGR',\n",
       " 'LiquidFlowRate',\n",
       " 'MassFlowRate',\n",
       " 'OGR',\n",
       " 'OverridesInitialized',\n",
       " 'PQCurve',\n",
       " 'Pressure',\n",
       " 'SelectedRateType',\n",
       " 'Temperature',\n",
       " 'UseFluidOverrides',\n",
       " 'UseGasRatio',\n",
       " 'UsePQCurve',\n",
       " 'UseWaterRatio',\n",
       " 'WGR',\n",
       " 'WaterCut']"
      ]
     },
     "execution_count": 9,
     "metadata": {},
     "output_type": "execute_result"
    }
   ],
   "source": [
    "sorted(\n",
    "    [\n",
    "        value\n",
    "        for key, value in Parameters.Source.__dict__.items()\n",
    "        if not key.startswith(\"__\") and isinstance(value, str)\n",
    "    ]\n",
    ")"
   ]
  },
  {
   "cell_type": "code",
   "execution_count": 10,
   "metadata": {},
   "outputs": [
    {
     "name": "stdout",
     "output_type": "stream",
     "text": [
      "__module__ sixgill.definitions\n",
      "USEPQCURVE UsePQCurve\n",
      "TEMPERATURE Temperature\n",
      "SELECTEDRATETYPE SelectedRateType\n",
      "GASFLOWRATE GasFlowRate\n",
      "LIQUIDFLOWRATE LiquidFlowRate\n",
      "MASSFLOWRATE MassFlowRate\n",
      "PRESSURE Pressure\n",
      "USEGASRATIO UseGasRatio\n",
      "USEWATERRATIO UseWaterRatio\n",
      "GOR GOR\n",
      "OGR OGR\n",
      "GLR GLR\n",
      "LGR LGR\n",
      "GWR GWR\n",
      "WGR WGR\n",
      "WATERCUT WaterCut\n",
      "USEFLUIDOVERRIDES UseFluidOverrides\n",
      "OVERRIDESINITIALIZED OverridesInitialized\n",
      "PQCURVE PQCurve\n",
      "__doc__ None\n"
     ]
    }
   ],
   "source": [
    "for key, value in Parameters.Source.__dict__.items():\n",
    "    print(key, value)"
   ]
  },
  {
   "cell_type": "code",
   "execution_count": 11,
   "metadata": {},
   "outputs": [
    {
     "name": "stdout",
     "output_type": "stream",
     "text": [
      "['Component A', 'Component B', 'Fluid A', 'Fluid B', 'Source A', 'Source B']\n"
     ]
    }
   ],
   "source": [
    "import inspect\n",
    "\n",
    "\n",
    "class SurfaceComponent:\n",
    "    COMPONENT_A = \"Component A\"\n",
    "    COMPONENT_B = \"Component B\"\n",
    "\n",
    "\n",
    "class AssociatedToFluid:\n",
    "    FLUID_A = \"Fluid A\"\n",
    "    FLUID_B = \"Fluid B\"\n",
    "\n",
    "\n",
    "class Source(SurfaceComponent, AssociatedToFluid):\n",
    "    SOURCE_A = \"Source A\"\n",
    "    SOURCE_B = \"Source B\"\n",
    "\n",
    "\n",
    "def get_string_values_from_class(main_class: type) -> list:\n",
    "    def extract_string_values(class_group):\n",
    "        return [\n",
    "            value\n",
    "            for key, value in class_group.__dict__.items()\n",
    "            if not key.startswith(\"__\") and isinstance(value, str)\n",
    "        ]\n",
    "\n",
    "    combined_values = set()\n",
    "    for cls in inspect.getmro(main_class):\n",
    "        combined_values.update(extract_string_values(cls))\n",
    "    return sorted(combined_values)\n",
    "\n",
    "\n",
    "# Example usage\n",
    "source_values = get_string_values_from_class(Source)\n",
    "print(source_values)"
   ]
  },
  {
   "cell_type": "code",
   "execution_count": 12,
   "metadata": {},
   "outputs": [
    {
     "data": {
      "text/plain": [
       "(__main__.Source,\n",
       " __main__.SurfaceComponent,\n",
       " __main__.AssociatedToFluid,\n",
       " object)"
      ]
     },
     "execution_count": 12,
     "metadata": {},
     "output_type": "execute_result"
    }
   ],
   "source": [
    "inspect.getmro(Source)"
   ]
  }
 ],
 "metadata": {
  "kernelspec": {
   "display_name": "base",
   "language": "python",
   "name": "python3"
  },
  "language_info": {
   "codemirror_mode": {
    "name": "ipython",
    "version": 3
   },
   "file_extension": ".py",
   "mimetype": "text/x-python",
   "name": "python",
   "nbconvert_exporter": "python",
   "pygments_lexer": "ipython3",
   "version": "3.11.7"
  }
 },
 "nbformat": 4,
 "nbformat_minor": 2
}
