{
 "cells": [
  {
   "cell_type": "code",
   "execution_count": 2,
   "metadata": {},
   "outputs": [],
   "source": [
    "# from app.core.model_builder import ModelBuilder\n",
    "from sixgill.pipesim import Model\n",
    "from sixgill.definitions import ModelComponents, Parameters\n",
    "from app.project import get_string_values_from_class, generate_dict_from_class\n",
    "from sixgill.core.model_context import ContextError\n",
    "from sixgill.core.mapping import ParameterError\n",
    "import pandas as pd\n",
    "import logging\n",
    "\n",
    "logger = logging.getLogger(__name__)"
   ]
  },
  {
   "cell_type": "code",
   "execution_count": 5,
   "metadata": {},
   "outputs": [],
   "source": [
    "file = r\"F:\\Project\\AET01254 ADNOC Gas Feasibility of BFW control valve\\09. Documents, Drawings\\9.71 Project Management\\09.71.01 Current documents\\5. Hydraulic Report\\Rev 0\\Pipesim Models\\Habshan 5 BFW Network - 93%.pips\""
   ]
  },
  {
   "cell_type": "code",
   "execution_count": 6,
   "metadata": {},
   "outputs": [
    {
     "name": "stderr",
     "output_type": "stream",
     "text": [
      "INFO:manta.server.manager:Starting PIPESIM server on thread ID: 4636\n",
      "INFO:manta.server.manager:Python toolkit license is checked out successfully\n",
      "INFO:manta.server.manager:Waiting for PIPESIM server to start.\n",
      "INFO:sixgill.core.metadata:Using cached metadata for 'http://localhost:60521/api/metadata#'\n"
     ]
    }
   ],
   "source": [
    "model = Model.open(file)"
   ]
  },
  {
   "cell_type": "code",
   "execution_count": null,
   "metadata": {},
   "outputs": [],
   "source": []
  }
 ],
 "metadata": {
  "kernelspec": {
   "display_name": "base",
   "language": "python",
   "name": "python3"
  },
  "language_info": {
   "codemirror_mode": {
    "name": "ipython",
    "version": 3
   },
   "file_extension": ".py",
   "mimetype": "text/x-python",
   "name": "python",
   "nbconvert_exporter": "python",
   "pygments_lexer": "ipython3",
   "version": "3.11.7"
  }
 },
 "nbformat": 4,
 "nbformat_minor": 2
}
