{
 "cells": [
  {
   "cell_type": "code",
   "execution_count": 1,
   "metadata": {},
   "outputs": [
    {
     "name": "stderr",
     "output_type": "stream",
     "text": [
      "INFO:network_simulation:------------Network Simulation Object Created----------------\n",
      "\n",
      "INFO:manta.server.manager:Starting PIPESIM server on thread ID: 13908\n",
      "INFO:manta.server.manager:Python toolkit license is checked out successfully\n",
      "INFO:manta.server.manager:Waiting for PIPESIM server to start.\n",
      "INFO:network_simulation:Model prepared\n",
      " Case:C1\n",
      " Condition: W-LP-EO\n",
      "INFO:network_simulation:Set Global Conditions\n",
      "INFO:network_simulation:Getting boundary conditions.....\n",
      "INFO:network_simulation:Getting well values.....\n",
      "INFO:network_simulation:Getting boundary conditions.....\n",
      "INFO:network_simulation:Activated all wells\n",
      "INFO:network_simulation:Deactivated no flow wells\n",
      "INFO:network_simulation:Getting boundary conditions.....\n",
      "INFO:network_simulation:Populated flowrates in model from excel\n",
      "INFO:network_simulation:Model saved as c:\\Users\\IDM252577\\Desktop\\Python Projects\\PIPSIM\\C1_W-LP-EO_BAB HP.pips\n",
      "INFO:sixgill.core.run_or_start_simulation:Simulation is running.\n",
      "INFO:sixgill.core.run_or_start_simulation:Simulation is running.\n",
      "INFO:sixgill.core.run_or_start_simulation:Simulation is running.\n",
      "INFO:sixgill.core.run_or_start_simulation:Simulation is running.\n",
      "INFO:sixgill.core.run_or_start_simulation:Simulation is running.\n",
      "INFO:sixgill.core.run_or_start_simulation:Simulation is running.\n",
      "INFO:sixgill.core.run_or_start_simulation:Simulation is running.\n",
      "INFO:sixgill.core.run_or_start_simulation:Simulation is running.\n",
      "INFO:sixgill.core.run_or_start_simulation:Simulation is finished.\n",
      "INFO:sixgill.core.run_or_start_simulation:Simulation run successfully.\n",
      "ERROR:root:J 160_ST-2101-01_J 150\n",
      "ERROR:root:J 160_ST-2102-01_J 150\n",
      "INFO:network_simulation:Simulation run Successful\n",
      "INFO:network_simulation:Converting units.....\n",
      "INFO:network_simulation:Results written to excel\n",
      "INFO:network_simulation:Model saved as c:\\Users\\IDM252577\\Desktop\\Python Projects\\PIPSIM\\C1_W-LP-EO_BAB HP.pips\n",
      "INFO:network_simulation:------------Network Simulation Object Closed----------------\n",
      "\n"
     ]
    }
   ],
   "source": [
    "import logging\n",
    "import traceback\n",
    "\n",
    "import pandas as pd\n",
    "import xlwings as xw\n",
    "from sixgill.definitions import *\n",
    "from sixgill.pipesim import Model, Units\n",
    "\n",
    "from network_simulation import NetworkSimulation, dict_to_df\n",
    "\n",
    "# Constants\n",
    "FOLDER_DIRECTORY = r\"c:\\Users\\IDM252577\\Desktop\\Python Projects\\PIPSIM\"\n",
    "MODEL_FILENAME = \"BAB HP.pips\"\n",
    "EXCEL_FILE = \"Water Injection Profile for BAB HP.xlsx\"\n",
    "\n",
    "SOURCE_NAME: str = \"Sea Water Supply\"\n",
    "PUMP_NAME: list = [\"HP Pump\", \"HP PUMP 2\"]\n",
    "\n",
    "ns = NetworkSimulation(FOLDER_DIRECTORY, MODEL_FILENAME, EXCEL_FILE)\n",
    "\n",
    "for case in [ns.all_profiles.columns[0]]:\n",
    "    for condition in [ns.all_conditions.index[0]]:\n",
    "        try:\n",
    "            ns.run_app(\n",
    "                source_name=SOURCE_NAME,\n",
    "                pump_name=PUMP_NAME,\n",
    "                case=case,\n",
    "                condition=condition,\n",
    "                do_units_conversion=True,\n",
    "            )\n",
    "        except:\n",
    "            traceback.print_exc()\n",
    "            continue"
   ]
  }
 ],
 "metadata": {
  "kernelspec": {
   "display_name": "base",
   "language": "python",
   "name": "python3"
  },
  "language_info": {
   "codemirror_mode": {
    "name": "ipython",
    "version": 3
   },
   "file_extension": ".py",
   "mimetype": "text/x-python",
   "name": "python",
   "nbconvert_exporter": "python",
   "pygments_lexer": "ipython3",
   "version": "3.11.7"
  }
 },
 "nbformat": 4,
 "nbformat_minor": 2
}
