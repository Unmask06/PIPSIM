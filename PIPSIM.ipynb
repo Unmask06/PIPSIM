{
 "cells": [
  {
   "cell_type": "code",
   "execution_count": 1,
   "metadata": {},
   "outputs": [],
   "source": [
    "from core.simulation_modeller import PipsimModel, ModelInput, PipsimModeller\n",
    "from core.network_simulation import NetworkSimulator\n",
    "\n",
    "\n",
    "from pathlib import Path\n",
    "\n",
    "\n",
    "from core.input_validation import PipSimInput\n",
    "\n",
    "\n",
    "from wave_hydraulics import load_config, load_input_data\n",
    "\n",
    "\n",
    "from core.inputdata import InputData\n",
    "import pandas as pd"
   ]
  },
  {
   "cell_type": "code",
   "execution_count": 2,
   "metadata": {},
   "outputs": [
    {
     "name": "stderr",
     "output_type": "stream",
     "text": [
      "INFO:wave_hydraulics:Input file loaded successfully.\n"
     ]
    },
    {
     "data": {
      "text/plain": [
       "PipSimInput(FOLDER_DIRECTORY=WindowsPath('c:/Users/IDM252577/Desktop/Python Projects/PIPSIM'), MODEL_FILENAME='BAB LP.pips', EXCEL_FILE='Water Injection Profile for BAB LP.xlsx', PIPSIM_INPUT_SHEET='PIPSIM Input', CONDITIONS_SHEET='Conditions', SOURCE_NAME='Src', PUMP_NAME=['LP Pump 1', 'LP Pump 2', 'LP Pump 3', 'LP Pump 4', 'LP Pump 5', 'LP Pump 6', 'LP Pump 7'], STRAINER_NAME=['ST-2104-01'])"
      ]
     },
     "execution_count": 2,
     "metadata": {},
     "output_type": "execute_result"
    }
   ],
   "source": [
    "config = load_config(\"inputs.json\")\n",
    "config"
   ]
  },
  {
   "cell_type": "code",
   "execution_count": null,
   "metadata": {},
   "outputs": [],
   "source": [
    "input_data = load_input_data(config)"
   ]
  },
  {
   "cell_type": "code",
   "execution_count": null,
   "metadata": {},
   "outputs": [],
   "source": [
    "model = PipsimModel(\"O-Min_W-HP_BAB LP.pips\")"
   ]
  },
  {
   "cell_type": "code",
   "execution_count": null,
   "metadata": {},
   "outputs": [],
   "source": [
    "ambient_temperature = input_data.get_parameter_for_condition(\n",
    "    condition=model.condition, param=\"Ambient Temperature\"\n",
    ")\n",
    "source_pressure = input_data.get_parameter_for_condition(\n",
    "    condition=model.condition, param=\"Source Pressure\"\n",
    ")\n",
    "source_temperature = input_data.get_parameter_for_condition(\n",
    "    condition=model.condition, param=\"Temperature\"\n",
    ")\n",
    "differential_pressure = input_data.get_parameter_for_condition(\n",
    "    condition=model.condition, param=\"PressureDifferential\"\n",
    ")\n",
    "\n",
    "model_input = ModelInput(\n",
    "    source_name=config.SOURCE_NAME,\n",
    "    pump_name=config.PUMP_NAME,\n",
    "    well_profile=input_data.well_profile,\n",
    "    ambient_temperature=ambient_temperature,\n",
    "    source_pressure=source_pressure,\n",
    "    source_temperature=source_temperature,\n",
    "    differential_pressure=differential_pressure,\n",
    ")"
   ]
  },
  {
   "cell_type": "code",
   "execution_count": null,
   "metadata": {},
   "outputs": [],
   "source": [
    "psmodeller = PipsimModeller(model, model_input)"
   ]
  },
  {
   "cell_type": "code",
   "execution_count": null,
   "metadata": {},
   "outputs": [],
   "source": [
    "psmodeller.build_model()"
   ]
  },
  {
   "cell_type": "code",
   "execution_count": null,
   "metadata": {},
   "outputs": [],
   "source": [
    "psmodeller.get_boundary_conditions()"
   ]
  },
  {
   "cell_type": "code",
   "execution_count": null,
   "metadata": {},
   "outputs": [],
   "source": [
    "psmodeller.get_all_values()"
   ]
  },
  {
   "cell_type": "code",
   "execution_count": null,
   "metadata": {},
   "outputs": [],
   "source": [
    "psmodeller.values[\"BB-1745\"]"
   ]
  },
  {
   "cell_type": "code",
   "execution_count": null,
   "metadata": {},
   "outputs": [],
   "source": [
    "psmodeller.category.loc[psmodeller.category[\"component\"] == \"BB-1745\"]"
   ]
  },
  {
   "cell_type": "code",
   "execution_count": null,
   "metadata": {},
   "outputs": [],
   "source": [
    "psmodeller.get_well_values()"
   ]
  },
  {
   "cell_type": "code",
   "execution_count": null,
   "metadata": {},
   "outputs": [],
   "source": [
    "psmodeller.well_values[\"BB-1745\"]"
   ]
  },
  {
   "cell_type": "code",
   "execution_count": null,
   "metadata": {},
   "outputs": [],
   "source": [
    "psmodeller.activate_all_wells()"
   ]
  },
  {
   "cell_type": "code",
   "execution_count": null,
   "metadata": {},
   "outputs": [],
   "source": [
    "psmodeller.deactivate_noflow_wells()"
   ]
  },
  {
   "cell_type": "code",
   "execution_count": null,
   "metadata": {},
   "outputs": [],
   "source": [
    "psmodeller.boundary_conditions"
   ]
  },
  {
   "cell_type": "code",
   "execution_count": null,
   "metadata": {},
   "outputs": [],
   "source": [
    "psmodeller = PipsimModeller(model, model_input)\n",
    "psmodeller.build_model()"
   ]
  },
  {
   "cell_type": "code",
   "execution_count": null,
   "metadata": {},
   "outputs": [],
   "source": [
    "pss = NetworkSimulator(model, model_input)"
   ]
  },
  {
   "cell_type": "code",
   "execution_count": null,
   "metadata": {},
   "outputs": [],
   "source": [
    "pss.get_boundary_conditions()"
   ]
  },
  {
   "cell_type": "code",
   "execution_count": null,
   "metadata": {},
   "outputs": [],
   "source": [
    "pss.boundary_conditions"
   ]
  },
  {
   "cell_type": "code",
   "execution_count": null,
   "metadata": {},
   "outputs": [],
   "source": [
    "pss.boundary_conditions"
   ]
  },
  {
   "cell_type": "code",
   "execution_count": null,
   "metadata": {},
   "outputs": [],
   "source": [
    "for idx, (case, condition) in enumerate(input_data.case_conditions, start=1):\n",
    "    print(f\"Case {idx}: {case,condition}\")"
   ]
  },
  {
   "cell_type": "code",
   "execution_count": null,
   "metadata": {},
   "outputs": [],
   "source": []
  }
 ],
 "metadata": {
  "kernelspec": {
   "display_name": "base",
   "language": "python",
   "name": "python3"
  },
  "language_info": {
   "codemirror_mode": {
    "name": "ipython",
    "version": 3
   },
   "file_extension": ".py",
   "mimetype": "text/x-python",
   "name": "python",
   "nbconvert_exporter": "python",
   "pygments_lexer": "ipython3",
   "version": "3.11.7"
  }
 },
 "nbformat": 4,
 "nbformat_minor": 2
}
