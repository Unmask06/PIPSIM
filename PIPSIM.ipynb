{
 "cells": [
  {
   "cell_type": "code",
   "execution_count": 1,
   "metadata": {},
   "outputs": [],
   "source": [
    "import os\n",
    "import logging\n",
    "\n",
    "\n",
    "\n",
    "import traceback\n",
    "\n",
    "import pandas as pd\n",
    "import xlwings as xw\n",
    "\n",
    "\n",
    "\n",
    "from sixgill.definitions import *\n",
    "\n",
    "\n",
    "\n",
    "from sixgill.pipesim import Model, Units\n",
    "\n",
    "\n",
    "\n",
    "from network_simulation import NetworkSimulation, dict_to_df"
   ]
  },
  {
   "cell_type": "code",
   "execution_count": null,
   "metadata": {},
   "outputs": [],
   "source": [
    "# Constants\n",
    "FOLDER_DIRECTORY = r\"c:\\Users\\IDM252577\\Desktop\\Python Projects\\PIPSIM\"\n",
    "# MODEL_FILENAME = \"BAB HP.pips\"\n",
    "EXCEL_FILE = \"Water Injection Profile for BAB HP.xlsx\"\n",
    "\n",
    "SOURCE_NAME: str = \"Sea Water Supply\"\n",
    "PUMP_NAME: list = [\"HP Pump\", \"HP PUMP 2\"]"
   ]
  },
  {
   "cell_type": "code",
   "execution_count": null,
   "metadata": {},
   "outputs": [],
   "source": [
    "pipsim_files = [file for file in os.listdir(FOLDER_DIRECTORY) if file.endswith(\".pips\")]\n",
    "# pipsim_files = [pipsim_files[1]]\n",
    "for MODEL_FILENAME in pipsim_files:\n",
    "    ns = NetworkSimulation(FOLDER_DIRECTORY, MODEL_FILENAME, EXCEL_FILE)\n",
    "    ns.open_model()\n",
    "    ns.get_boundary_conditions()\n",
    "    ns.run_simulation()\n",
    "    ns.model.save()\n",
    "    ns.process_results()\n",
    "    ns.do_units_conversion = True\n",
    "    ns.convert_units()\n",
    "    ns.write_results_to_excel(update=True)"
   ]
  }
 ],
 "metadata": {
  "kernelspec": {
   "display_name": "base",
   "language": "python",
   "name": "python3"
  },
  "language_info": {
   "codemirror_mode": {
    "name": "ipython",
    "version": 3
   },
   "file_extension": ".py",
   "mimetype": "text/x-python",
   "name": "python",
   "nbconvert_exporter": "python",
   "pygments_lexer": "ipython3",
   "version": "3.11.7"
  }
 },
 "nbformat": 4,
 "nbformat_minor": 2
}
