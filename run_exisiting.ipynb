{
 "cells": [
  {
   "cell_type": "code",
   "execution_count": 1,
   "metadata": {},
   "outputs": [],
   "source": [
    "from core.model_input import PipsimModel, ModelInput\n",
    "from core.network_simulation import NetworkSimulator\n",
    "from pathlib import Path"
   ]
  },
  {
   "cell_type": "code",
   "execution_count": 2,
   "metadata": {},
   "outputs": [
    {
     "name": "stderr",
     "output_type": "stream",
     "text": [
      "INFO:manta.server.manager:Starting PIPESIM server on thread ID: 14844\n",
      "INFO:manta.server.manager:Waiting for PIPESIM server to start.\n",
      "INFO:manta.server.manager:Python toolkit license is checked out successfully\n",
      "INFO:manta.server.manager:Waiting for PIPESIM server to start.\n",
      "INFO:core.model_input:Model C:\\Users\\IDM252577\\Desktop\\Python Projects\\PIPSIM\\RDS1_max Flow_Summer.pips loaded successfully.\n",
      "case: RDS1\n",
      " condition: max Flow\n",
      "base model: Summer.pips\n",
      "INFO:core.simulation_modeller:Getting boundary conditions.....\n",
      "INFO:sixgill.core.run_or_start_simulation:Simulation is running.\n",
      "INFO:sixgill.core.run_or_start_simulation:Simulation is finished.\n",
      "INFO:sixgill.core.run_or_start_simulation:Simulation run successfully.\n",
      "INFO:core.network_simulation:Simulation run Successful\n",
      "ERROR:core.network_simulation:\"['VolumeFlowrateGasInSitu'] not in index\"\n"
     ]
    },
    {
     "name": "stdout",
     "output_type": "stream",
     "text": [
      "\"['VolumeFlowrateGasInSitu'] not in index\"\n"
     ]
    },
    {
     "name": "stderr",
     "output_type": "stream",
     "text": [
      "Traceback (most recent call last):\n",
      "  File \"c:\\Users\\IDM252577\\Desktop\\Python Projects\\PIPSIM\\core\\network_simulation.py\", line 221, in run_existing_model\n",
      "    self.process_profile_results()\n",
      "  File \"c:\\Users\\IDM252577\\Desktop\\Python Projects\\PIPSIM\\core\\network_simulation.py\", line 132, in process_profile_results\n",
      "    self._reorder_columns()\n",
      "  File \"c:\\Users\\IDM252577\\Desktop\\Python Projects\\PIPSIM\\core\\network_simulation.py\", line 160, in _reorder_columns\n",
      "    self.node_results = self.node_results[new_node_cols]\n",
      "                        ~~~~~~~~~~~~~~~~~^^^^^^^^^^^^^^^\n",
      "  File \"c:\\Program Files\\Schlumberger\\Pipesim_PTK_2023.1\\Lib\\site-packages\\pandas\\core\\frame.py\", line 3899, in __getitem__\n",
      "    indexer = self.columns._get_indexer_strict(key, \"columns\")[1]\n",
      "              ^^^^^^^^^^^^^^^^^^^^^^^^^^^^^^^^^^^^^^^^^^^^^^^^\n",
      "  File \"c:\\Program Files\\Schlumberger\\Pipesim_PTK_2023.1\\Lib\\site-packages\\pandas\\core\\indexes\\base.py\", line 6115, in _get_indexer_strict\n",
      "    self._raise_if_missing(keyarr, indexer, axis_name)\n",
      "  File \"c:\\Program Files\\Schlumberger\\Pipesim_PTK_2023.1\\Lib\\site-packages\\pandas\\core\\indexes\\base.py\", line 6179, in _raise_if_missing\n",
      "    raise KeyError(f\"{not_found} not in index\")\n",
      "KeyError: \"['VolumeFlowrateGasInSitu'] not in index\"\n"
     ]
    }
   ],
   "source": [
    "folder_path = Path(r\"C:\\Users\\IDM252577\\Desktop\\Python Projects\\PIPSIM\")\n",
    "\n",
    "\n",
    "for pips_file in folder_path.glob(\"*.pips\"):\n",
    "    try:\n",
    "        model = PipsimModel(str(pips_file), folder_path=str(folder_path))\n",
    "        model_input = ModelInput()\n",
    "        ns = NetworkSimulator(model, model_input)\n",
    "        ns.run_existing_model()\n",
    "    except Exception as e:\n",
    "        print(e)"
   ]
  },
  {
   "cell_type": "code",
   "execution_count": 3,
   "metadata": {},
   "outputs": [
    {
     "name": "stdout",
     "output_type": "stream",
     "text": [
      "Before ffill():\n",
      "     A    B\n",
      "0  1.0  NaN\n",
      "1  NaN  2.0\n",
      "2  3.0  NaN\n",
      "3  NaN  4.0\n",
      "4  NaN  NaN\n",
      "5  6.0  NaN\n",
      "\n",
      "After ffill():\n",
      "     A    B\n",
      "0  1.0  NaN\n",
      "1  1.0  2.0\n",
      "2  3.0  2.0\n",
      "3  3.0  4.0\n",
      "4  3.0  4.0\n",
      "5  6.0  4.0\n"
     ]
    }
   ],
   "source": [
    "import pandas as pd\n",
    "\n",
    "# Example DataFrame\n",
    "data = {\"A\": [1, None, 3, None, None, 6], \"B\": [None, 2, None, 4, None, None]}\n",
    "df = pd.DataFrame(data)\n",
    "\n",
    "print(\"Before ffill():\")\n",
    "print(df)\n",
    "\n",
    "# Apply forward fill\n",
    "df_filled = df.ffill()\n",
    "\n",
    "print(\"\\nAfter ffill():\")\n",
    "print(df_filled)"
   ]
  }
 ],
 "metadata": {
  "kernelspec": {
   "display_name": "base",
   "language": "python",
   "name": "python3"
  },
  "language_info": {
   "codemirror_mode": {
    "name": "ipython",
    "version": 3
   },
   "file_extension": ".py",
   "mimetype": "text/x-python",
   "name": "python",
   "nbconvert_exporter": "python",
   "pygments_lexer": "ipython3",
   "version": "3.11.7"
  }
 },
 "nbformat": 4,
 "nbformat_minor": 2
}
