{
 "cells": [
  {
   "cell_type": "code",
   "execution_count": 1,
   "metadata": {},
   "outputs": [],
   "source": [
    "from core.model_input import PipsimModel, ModelInput\n",
    "from core.network_simulation import NetworkSimulator\n",
    "from pathlib import Path"
   ]
  },
  {
   "cell_type": "code",
   "execution_count": 2,
   "metadata": {},
   "outputs": [
    {
     "name": "stderr",
     "output_type": "stream",
     "text": [
      "INFO:manta.server.manager:Starting PIPESIM server on thread ID: 23268\n",
      "INFO:manta.server.manager:Waiting for PIPESIM server to start.\n",
      "INFO:manta.server.manager:Python toolkit license is checked out successfully\n",
      "INFO:manta.server.manager:Waiting for PIPESIM server to start.\n",
      "INFO:core.model_input:Model C:\\Users\\IDM252577\\Desktop\\Python Projects\\PIPSIM\\RDS1_max Flow_Summer.pips loaded successfully.\n",
      "case: RDS1\n",
      " condition: max Flow\n",
      "base model: Summer.pips\n",
      "INFO:core.simulation_modeller:Getting boundary conditions.....\n",
      "INFO:sixgill.core.run_or_start_simulation:Simulation is running.\n",
      "INFO:sixgill.core.run_or_start_simulation:Simulation is running.\n",
      "INFO:sixgill.core.run_or_start_simulation:Simulation is running.\n",
      "INFO:sixgill.core.run_or_start_simulation:Simulation is running.\n",
      "INFO:sixgill.core.run_or_start_simulation:Simulation is running.\n",
      "INFO:sixgill.core.run_or_start_simulation:Simulation is running.\n",
      "INFO:sixgill.core.run_or_start_simulation:Simulation is running.\n",
      "INFO:sixgill.core.run_or_start_simulation:Simulation is running.\n",
      "INFO:sixgill.core.run_or_start_simulation:Simulation is running.\n",
      "INFO:sixgill.core.run_or_start_simulation:Simulation is running.\n",
      "INFO:sixgill.core.run_or_start_simulation:Simulation is finished.\n",
      "INFO:sixgill.core.run_or_start_simulation:Simulation run successfully.\n",
      "INFO:core.network_simulation:Simulation run Successful\n",
      "INFO:core.simulation_modeller:------------Network Simulation Object Closed----------------\n",
      "\n",
      "INFO:core.network_simulation:Converting units.....\n",
      "INFO:core.network_simulation:Results written to excel\n"
     ]
    }
   ],
   "source": [
    "folder_path = Path(r\"C:\\Users\\IDM252577\\Desktop\\Python Projects\\PIPSIM\")\n",
    "\n",
    "\n",
    "for pips_file in folder_path.glob(\"*.pips\"):\n",
    "    try:\n",
    "        model = PipsimModel(str(pips_file), folder_path=str(folder_path))\n",
    "        model_input = ModelInput()\n",
    "        ns = NetworkSimulator(model, model_input)\n",
    "        ns.run_existing_model()\n",
    "    except Exception as e:\n",
    "        print(e)"
   ]
  }
 ],
 "metadata": {
  "kernelspec": {
   "display_name": "base",
   "language": "python",
   "name": "python3"
  },
  "language_info": {
   "codemirror_mode": {
    "name": "ipython",
    "version": 3
   },
   "file_extension": ".py",
   "mimetype": "text/x-python",
   "name": "python",
   "nbconvert_exporter": "python",
   "pygments_lexer": "ipython3",
   "version": "3.11.7"
  }
 },
 "nbformat": 4,
 "nbformat_minor": 2
}
