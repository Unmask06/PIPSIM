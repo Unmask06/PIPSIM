{
 "cells": [
  {
   "cell_type": "code",
   "execution_count": 1,
   "metadata": {},
   "outputs": [],
   "source": [
    "from sixgill.definitions import Units"
   ]
  },
  {
   "cell_type": "code",
   "execution_count": 15,
   "metadata": {},
   "outputs": [
    {
     "name": "stdout",
     "output_type": "stream",
     "text": [
      "['PIPESIM_METRIC', 'PIPESIM_SI', 'PIPESIM_FIELD']\n"
     ]
    }
   ],
   "source": [
    "# Get the string values as a list\n",
    "def get_string_values_from_class(class_name: type) -> list:\n",
    "    return [\n",
    "        value\n",
    "        for key, value in class_name.__dict__.items()\n",
    "        if not key.startswith(\"__\") and isinstance(value, str)\n",
    "    ]\n",
    "\n",
    "\n",
    "unit_values = get_string_values_from_class(Units)\n",
    "\n",
    "print(unit_values)"
   ]
  },
  {
   "cell_type": "code",
   "execution_count": 17,
   "metadata": {},
   "outputs": [
    {
     "data": {
      "text/plain": [
       "{'__module__': '__main__',\n",
       " '__doc__': 'Available unit of measurement categories',\n",
       " 'METRIC': 'PIPESIM_METRIC',\n",
       " 'SI': 'PIPESIM_SI',\n",
       " 'FIELD': 'PIPESIM_FIELD',\n",
       " '__dict__': <attribute '__dict__' of 'Units' objects>,\n",
       " '__weakref__': <attribute '__weakref__' of 'Units' objects>}"
      ]
     },
     "execution_count": 17,
     "metadata": {},
     "output_type": "execute_result"
    }
   ],
   "source": [
    "dict(Units.__dict__.items())"
   ]
  },
  {
   "cell_type": "code",
   "execution_count": 1,
   "metadata": {},
   "outputs": [],
   "source": [
    "from sixgill.definitions import Parameters"
   ]
  },
  {
   "cell_type": "code",
   "execution_count": 3,
   "metadata": {},
   "outputs": [
    {
     "data": {
      "text/plain": [
       "{'__module__': 'sixgill.definitions',\n",
       " '__doc__': ' Available parameters by model component ',\n",
       " 'Location': sixgill.definitions.Parameters.Location,\n",
       " 'SchematicPosition': sixgill.definitions.Parameters.SchematicPosition,\n",
       " 'DownholeLocation': sixgill.definitions.Parameters.DownholeLocation,\n",
       " 'ModelComponent': sixgill.definitions.Parameters.ModelComponent,\n",
       " 'DownholeComponent': sixgill.definitions.Parameters.DownholeComponent,\n",
       " 'SurfaceComponent': sixgill.definitions.Parameters.SurfaceComponent,\n",
       " 'DownholeOrSurfaceComponent': sixgill.definitions.Parameters.DownholeOrSurfaceComponent,\n",
       " 'AbstractTubingSection': sixgill.definitions.Parameters.AbstractTubingSection,\n",
       " 'AssociatedToFluid': sixgill.definitions.Parameters.AssociatedToFluid,\n",
       " 'CanBeTemplate': sixgill.definitions.Parameters.CanBeTemplate,\n",
       " 'SharedPumpParameters': sixgill.definitions.Parameters.SharedPumpParameters,\n",
       " 'SharedPumpCatalogParameters': sixgill.definitions.Parameters.SharedPumpCatalogParameters,\n",
       " 'FluidLink': sixgill.definitions.Parameters.FluidLink,\n",
       " 'Fluid': sixgill.definitions.Parameters.Fluid,\n",
       " 'FileBasedFluid': sixgill.definitions.Parameters.FileBasedFluid,\n",
       " 'About': sixgill.definitions.Parameters.About,\n",
       " 'SimulationSetting': sixgill.definitions.Parameters.SimulationSetting,\n",
       " 'FlowCorrelation': sixgill.definitions.Parameters.FlowCorrelation,\n",
       " 'HeatTransferOption': sixgill.definitions.Parameters.HeatTransferOption,\n",
       " 'BlackOilFluid': sixgill.definitions.Parameters.BlackOilFluid,\n",
       " 'BlackOilUserViscosityTable': sixgill.definitions.Parameters.BlackOilUserViscosityTable,\n",
       " 'BlackOilUserEmulsionTable': sixgill.definitions.Parameters.BlackOilUserEmulsionTable,\n",
       " 'Boundary': sixgill.definitions.Parameters.Boundary,\n",
       " 'RateConstraint': sixgill.definitions.Parameters.RateConstraint,\n",
       " 'LocalConstraint': sixgill.definitions.Parameters.LocalConstraint,\n",
       " 'OptimizerInitialConditions': sixgill.definitions.Parameters.OptimizerInitialConditions,\n",
       " 'Casing': sixgill.definitions.Parameters.Casing,\n",
       " 'CheckValve': sixgill.definitions.Parameters.CheckValve,\n",
       " 'Choke': sixgill.definitions.Parameters.Choke,\n",
       " 'Completion': sixgill.definitions.Parameters.Completion,\n",
       " 'CompletionConingPoint': sixgill.definitions.Parameters.CompletionConingPoint,\n",
       " 'CompositionalFluid': sixgill.definitions.Parameters.CompositionalFluid,\n",
       " 'Compressor': sixgill.definitions.Parameters.Compressor,\n",
       " 'IPRTriLinear': sixgill.definitions.Parameters.IPRTriLinear,\n",
       " 'IPRDarcy': sixgill.definitions.Parameters.IPRDarcy,\n",
       " 'DistributedCompletionModel': sixgill.definitions.Parameters.DistributedCompletionModel,\n",
       " 'IPRPSSBabuOdeh': sixgill.definitions.Parameters.IPRPSSBabuOdeh,\n",
       " 'IPRSSJoshi': sixgill.definitions.Parameters.IPRSSJoshi,\n",
       " 'IPRHorizontalPI': sixgill.definitions.Parameters.IPRHorizontalPI,\n",
       " 'EngineKeywords': sixgill.definitions.Parameters.EngineKeywords,\n",
       " 'ESP': sixgill.definitions.Parameters.ESP,\n",
       " 'ESPMotorCoefficient': sixgill.definitions.Parameters.ESPMotorCoefficient,\n",
       " 'Expander': sixgill.definitions.Parameters.Expander,\n",
       " 'FetkovitchEquationModel': sixgill.definitions.Parameters.FetkovitchEquationModel,\n",
       " 'FlowControlValve': sixgill.definitions.Parameters.FlowControlValve,\n",
       " 'Flowline': sixgill.definitions.Parameters.Flowline,\n",
       " 'FluidComponent': sixgill.definitions.Parameters.FluidComponent,\n",
       " 'FluidComponentFraction': sixgill.definitions.Parameters.FluidComponentFraction,\n",
       " 'IPRForchheimer': sixgill.definitions.Parameters.IPRForchheimer,\n",
       " 'GasLiftInjection': sixgill.definitions.Parameters.GasLiftInjection,\n",
       " 'GenericEquipment': sixgill.definitions.Parameters.GenericEquipment,\n",
       " 'Pump': sixgill.definitions.Parameters.Pump,\n",
       " 'GeographicSurvey': sixgill.definitions.Parameters.GeographicSurvey,\n",
       " 'GravelPack': sixgill.definitions.Parameters.GravelPack,\n",
       " 'HeatExchanger': sixgill.definitions.Parameters.HeatExchanger,\n",
       " 'Injector': sixgill.definitions.Parameters.Injector,\n",
       " 'IPRBackPressure': sixgill.definitions.Parameters.IPRBackPressure,\n",
       " 'IPRHydraulicFracture': sixgill.definitions.Parameters.IPRHydraulicFracture,\n",
       " 'IPRPIModel': sixgill.definitions.Parameters.IPRPIModel,\n",
       " 'IPRJones': sixgill.definitions.Parameters.IPRJones,\n",
       " 'Source': sixgill.definitions.Parameters.Source,\n",
       " 'Junction': sixgill.definitions.Parameters.Junction,\n",
       " 'Liner': sixgill.definitions.Parameters.Liner,\n",
       " 'MeasurementPoint': sixgill.definitions.Parameters.MeasurementPoint,\n",
       " 'MFLFluid': sixgill.definitions.Parameters.MFLFluid,\n",
       " 'MultiphaseBooster': sixgill.definitions.Parameters.MultiphaseBooster,\n",
       " 'GenericMultiphaseBooster': sixgill.definitions.Parameters.GenericMultiphaseBooster,\n",
       " 'SharedOneSubseaParameters': sixgill.definitions.Parameters.SharedOneSubseaParameters,\n",
       " 'OneSubseaMultiphaseBooster': sixgill.definitions.Parameters.OneSubseaMultiphaseBooster,\n",
       " 'OneSubseaWetGasCompressor': sixgill.definitions.Parameters.OneSubseaWetGasCompressor,\n",
       " 'MultiplierAdder': sixgill.definitions.Parameters.MultiplierAdder,\n",
       " 'OpenHole': sixgill.definitions.Parameters.OpenHole,\n",
       " 'Packer': sixgill.definitions.Parameters.Packer,\n",
       " 'PCP': sixgill.definitions.Parameters.PCP,\n",
       " 'PVTFluid': sixgill.definitions.Parameters.PVTFluid,\n",
       " 'RodPump': sixgill.definitions.Parameters.RodPump,\n",
       " 'SinglePhaseSeparator': sixgill.definitions.Parameters.SinglePhaseSeparator,\n",
       " 'Sink': sixgill.definitions.Parameters.Sink,\n",
       " 'SlidingSleeve': sixgill.definitions.Parameters.SlidingSleeve,\n",
       " 'SpotReport': sixgill.definitions.Parameters.SpotReport,\n",
       " 'SubsurfaceSafetyValve': sixgill.definitions.Parameters.SubsurfaceSafetyValve,\n",
       " 'Study': sixgill.definitions.Parameters.Study,\n",
       " 'AbstractTask': sixgill.definitions.Parameters.AbstractTask,\n",
       " 'SingleBranchSimulation': sixgill.definitions.Parameters.SingleBranchSimulation,\n",
       " 'VfpTablesSimulation': sixgill.definitions.Parameters.VfpTablesSimulation,\n",
       " 'NetworkSimulation': sixgill.definitions.Parameters.NetworkSimulation,\n",
       " 'NetworkOptimizerSimulation': sixgill.definitions.Parameters.NetworkOptimizerSimulation,\n",
       " 'GLDiagnosticsSimulation': sixgill.definitions.Parameters.GLDiagnosticsSimulation,\n",
       " 'PTProfileSimulation': sixgill.definitions.Parameters.PTProfileSimulation,\n",
       " 'SystemAnalysisSimulation': sixgill.definitions.Parameters.SystemAnalysisSimulation,\n",
       " 'WellPerformanceCurvesSimulation': sixgill.definitions.Parameters.WellPerformanceCurvesSimulation,\n",
       " 'NodalAnalysisSimulation': sixgill.definitions.Parameters.NodalAnalysisSimulation,\n",
       " 'ThreePhaseSeparator': sixgill.definitions.Parameters.ThreePhaseSeparator,\n",
       " 'Tubing': sixgill.definitions.Parameters.Tubing,\n",
       " 'TwoPhaseSeparator': sixgill.definitions.Parameters.TwoPhaseSeparator,\n",
       " 'IPRVogel': sixgill.definitions.Parameters.IPRVogel,\n",
       " 'WaterTempVelocitySurvey': sixgill.definitions.Parameters.WaterTempVelocitySurvey,\n",
       " 'GasliftSensitivity': sixgill.definitions.Parameters.GasliftSensitivity,\n",
       " 'Well': sixgill.definitions.Parameters.Well,\n",
       " 'NodalPoint': sixgill.definitions.Parameters.NodalPoint,\n",
       " 'NodalOperatingEnvelopePlot': sixgill.definitions.Parameters.NodalOperatingEnvelopePlot,\n",
       " 'GlobalCatalog': sixgill.definitions.Parameters.GlobalCatalog,\n",
       " 'FlowlineGeometry': sixgill.definitions.Parameters.FlowlineGeometry,\n",
       " 'GeothermalSurvey': sixgill.definitions.Parameters.GeothermalSurvey,\n",
       " 'CoatingHeatTransfer': sixgill.definitions.Parameters.CoatingHeatTransfer,\n",
       " 'RelativePermeability': sixgill.definitions.Parameters.RelativePermeability,\n",
       " 'WellTrajectory': sixgill.definitions.Parameters.WellTrajectory,\n",
       " 'CompletionTestPoint': sixgill.definitions.Parameters.CompletionTestPoint,\n",
       " 'PQCurve': sixgill.definitions.Parameters.PQCurve,\n",
       " 'RiskIndexLimits': sixgill.definitions.Parameters.RiskIndexLimits,\n",
       " 'TpaCorrosionModel': sixgill.definitions.Parameters.TpaCorrosionModel,\n",
       " 'DeWaardCorrosionModel': sixgill.definitions.Parameters.DeWaardCorrosionModel,\n",
       " '__dict__': <attribute '__dict__' of 'Parameters' objects>,\n",
       " '__weakref__': <attribute '__weakref__' of 'Parameters' objects>}"
      ]
     },
     "execution_count": 3,
     "metadata": {},
     "output_type": "execute_result"
    }
   ],
   "source": [
    "dict(Parameters.__dict__.items())"
   ]
  },
  {
   "cell_type": "code",
   "execution_count": null,
   "metadata": {},
   "outputs": [],
   "source": []
  },
  {
   "cell_type": "code",
   "execution_count": null,
   "metadata": {},
   "outputs": [],
   "source": []
  }
 ],
 "metadata": {
  "kernelspec": {
   "display_name": "base",
   "language": "python",
   "name": "python3"
  },
  "language_info": {
   "codemirror_mode": {
    "name": "ipython",
    "version": 3
   },
   "file_extension": ".py",
   "mimetype": "text/x-python",
   "name": "python",
   "nbconvert_exporter": "python",
   "pygments_lexer": "ipython3",
   "version": "3.11.7"
  }
 },
 "nbformat": 4,
 "nbformat_minor": 2
}
