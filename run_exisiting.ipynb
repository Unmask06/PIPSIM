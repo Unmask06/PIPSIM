{
 "cells": [
  {
   "cell_type": "code",
   "execution_count": 1,
   "metadata": {},
   "outputs": [],
   "source": [
    "from core.simulation_modeller import copy_flowline_data\n",
    "from pathlib import Path"
   ]
  },
  {
   "cell_type": "code",
   "execution_count": 2,
   "metadata": {},
   "outputs": [],
   "source": [
    "source_model_path = r\"F:\\Project\\AET01083.00 Wave-Component_3A\\09. Documents, Drawings\\9.31 Process\\09.31.01 Current documents\\BUHASA-Pump Hydraulics\\Rev 1\\LP\\Over-Max_S-HP-LO_BUHASA LP.pips\"\n",
    "target_folder = r\"F:\\Project\\AET01083.00 Wave-Component_3A\\09. Documents, Drawings\\9.31 Process\\09.31.01 Current documents\\BUHASA-Pump Hydraulics\\Rev 1\\LP\\Models\\b1\""
   ]
  },
  {
   "cell_type": "code",
   "execution_count": 3,
   "metadata": {},
   "outputs": [
    {
     "name": "stderr",
     "output_type": "stream",
     "text": [
      "INFO:manta.server.manager:Starting PIPESIM server on thread ID: 5412\n",
      "INFO:manta.server.manager:Python toolkit license is checked out successfully\n",
      "INFO:manta.server.manager:Waiting for PIPESIM server to start.\n",
      "INFO:core.simulation_modeller:Getting flowline data from Over-Max_S-HP-LO_BUHASA LP.pips.....\n",
      "INFO:core.simulation_modeller:Copying basic flowline data from to Central-Max_S-HP-EO_BUHASA LP.pips.....\n",
      "INFO:manta.server.manager:Starting PIPESIM server on thread ID: 3500\n",
      "INFO:manta.server.manager:Python toolkit license is checked out successfully\n",
      "INFO:manta.server.manager:Waiting for PIPESIM server to start.\n",
      "INFO:sixgill.core.metadata:Using cached metadata for 'http://localhost:49842/api/metadata#'\n",
      "INFO:core.simulation_modeller:Copying detailed flowline data from to Central-Max_S-HP-EO_BUHASA LP.pips.....\n",
      "INFO:core.simulation_modeller:Copied geometry for 10 flowlines\n",
      "INFO:core.simulation_modeller:Copied geometry for 20 flowlines\n",
      "INFO:core.simulation_modeller:Copied geometry for 30 flowlines\n",
      "INFO:core.simulation_modeller:Copied geometry for 40 flowlines\n",
      "INFO:core.simulation_modeller:Copied geometry for 50 flowlines\n",
      "INFO:core.simulation_modeller:Copied geometry for 60 flowlines\n",
      "INFO:core.simulation_modeller:Copied geometry for 70 flowlines\n",
      "INFO:core.simulation_modeller:Copied geometry for 80 flowlines\n",
      "INFO:core.simulation_modeller:Copied geometry for 90 flowlines\n",
      "INFO:core.simulation_modeller:Copied geometry for 100 flowlines\n",
      "INFO:core.simulation_modeller:Copied geometry for 110 flowlines\n",
      "INFO:core.simulation_modeller:Copied geometry for 120 flowlines\n",
      "INFO:core.simulation_modeller:Copied geometry for 130 flowlines\n",
      "INFO:core.simulation_modeller:Copied geometry for 140 flowlines\n",
      "INFO:core.simulation_modeller:Copied geometry for 150 flowlines\n",
      "INFO:core.simulation_modeller:Copied geometry for 160 flowlines\n",
      "INFO:core.simulation_modeller:Copied geometry for 170 flowlines\n",
      "INFO:core.simulation_modeller:Copied geometry for 180 flowlines\n",
      "INFO:core.simulation_modeller:Copied geometry for 190 flowlines\n",
      "INFO:core.simulation_modeller:Flowline data copied successfully\n",
      "INFO:manta.server.manager:Starting PIPESIM server on thread ID: 9112\n",
      "INFO:manta.server.manager:Python toolkit license is checked out successfully\n",
      "INFO:manta.server.manager:Waiting for PIPESIM server to start.\n",
      "INFO:sixgill.core.metadata:Using cached metadata for 'http://localhost:50078/api/metadata#'\n",
      "INFO:core.simulation_modeller:Getting flowline data from Over-Max_S-HP-LO_BUHASA LP.pips.....\n",
      "INFO:core.simulation_modeller:Copying basic flowline data from to Central-Max_S-HP-LO_BUHASA LP.pips.....\n",
      "INFO:manta.server.manager:Starting PIPESIM server on thread ID: 23828\n",
      "INFO:manta.server.manager:Python toolkit license is checked out successfully\n",
      "INFO:manta.server.manager:Waiting for PIPESIM server to start.\n",
      "INFO:sixgill.core.metadata:Using cached metadata for 'http://localhost:50105/api/metadata#'\n",
      "INFO:core.simulation_modeller:Copying detailed flowline data from to Central-Max_S-HP-LO_BUHASA LP.pips.....\n",
      "INFO:core.simulation_modeller:Copied geometry for 10 flowlines\n",
      "INFO:core.simulation_modeller:Copied geometry for 20 flowlines\n",
      "INFO:core.simulation_modeller:Copied geometry for 30 flowlines\n",
      "INFO:core.simulation_modeller:Copied geometry for 40 flowlines\n",
      "INFO:core.simulation_modeller:Copied geometry for 50 flowlines\n",
      "INFO:core.simulation_modeller:Copied geometry for 60 flowlines\n",
      "INFO:core.simulation_modeller:Copied geometry for 70 flowlines\n",
      "INFO:core.simulation_modeller:Copied geometry for 80 flowlines\n",
      "INFO:core.simulation_modeller:Copied geometry for 90 flowlines\n",
      "INFO:core.simulation_modeller:Copied geometry for 100 flowlines\n",
      "INFO:core.simulation_modeller:Copied geometry for 110 flowlines\n",
      "INFO:core.simulation_modeller:Copied geometry for 120 flowlines\n",
      "INFO:core.simulation_modeller:Copied geometry for 130 flowlines\n",
      "INFO:core.simulation_modeller:Copied geometry for 140 flowlines\n",
      "INFO:core.simulation_modeller:Copied geometry for 150 flowlines\n",
      "INFO:core.simulation_modeller:Copied geometry for 160 flowlines\n",
      "INFO:core.simulation_modeller:Copied geometry for 170 flowlines\n",
      "INFO:core.simulation_modeller:Copied geometry for 180 flowlines\n",
      "INFO:core.simulation_modeller:Copied geometry for 190 flowlines\n",
      "INFO:core.simulation_modeller:Flowline data copied successfully\n"
     ]
    }
   ],
   "source": [
    "for file in Path(target_folder).rglob(\"*\"):\n",
    "    if file.is_file():\n",
    "        copy_flowline_data(\n",
    "            str(source_model_path),\n",
    "            str(file.absolute()),\n",
    "        )"
   ]
  }
 ],
 "metadata": {
  "kernelspec": {
   "display_name": "base",
   "language": "python",
   "name": "python3"
  },
  "language_info": {
   "codemirror_mode": {
    "name": "ipython",
    "version": 3
   },
   "file_extension": ".py",
   "mimetype": "text/x-python",
   "name": "python",
   "nbconvert_exporter": "python",
   "pygments_lexer": "ipython3",
   "version": "3.11.7"
  }
 },
 "nbformat": 4,
 "nbformat_minor": 2
}
