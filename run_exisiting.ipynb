{
 "cells": [
  {
   "cell_type": "code",
   "execution_count": 4,
   "metadata": {},
   "outputs": [],
   "source": [
    "from core.simulation_modeller import copy_flowline_data\n",
    "from pathlib import Path\n",
    "from frames.run_simulation import run_simulation"
   ]
  },
  {
   "cell_type": "code",
   "execution_count": 5,
   "metadata": {},
   "outputs": [],
   "source": [
    "source_model_path = r\"F:\\Project\\AET01083.00 Wave-Component_3A\\09. Documents, Drawings\\9.31 Process\\09.31.01 Current documents\\BUHASA-Pump Hydraulics\\Rev 1\\LP\\Over-Max_S-HP-LO_BUHASA LP.pips\"\n",
    "target_folder = r\"F:\\Project\\AET01083.00 Wave-Component_3A\\09. Documents, Drawings\\9.31 Process\\09.31.01 Current documents\\BUHASA-Pump Hydraulics\\Rev 1\\LP\\Models\\b3\""
   ]
  },
  {
   "cell_type": "code",
   "execution_count": 6,
   "metadata": {},
   "outputs": [],
   "source": [
    "import logging\n",
    "\n",
    "logging.basicConfig(level=logging.INFO)\n",
    "logger = logging.getLogger(__name__)"
   ]
  },
  {
   "cell_type": "code",
   "execution_count": 7,
   "metadata": {},
   "outputs": [],
   "source": [
    "# copy_flowline_data(source_model_path, target_folder)"
   ]
  },
  {
   "cell_type": "code",
   "execution_count": 8,
   "metadata": {},
   "outputs": [
    {
     "name": "stderr",
     "output_type": "stream",
     "text": [
      "INFO:__main__:Running simulation\n",
      "INFO:manta.server.manager:Starting PIPESIM server on thread ID: 21680\n",
      "INFO:manta.server.manager:Python toolkit license is checked out successfully\n",
      "INFO:manta.server.manager:Waiting for PIPESIM server to start.\n",
      "INFO:core.model_input:Model F:\\Project\\AET01083.00 Wave-Component_3A\\09. Documents, Drawings\\9.31 Process\\09.31.01 Current documents\\BUHASA-Pump Hydraulics\\Rev 1\\LP\\Models\\b3\\Over-Max_S-HP-EO_BUHASA LP.pips loaded successfully.\n",
      "case: Over-Max\n",
      " condition: S-HP-EO\n",
      "base model: BUHASA LP.pips\n",
      "INFO:core.simulation_modeller:Getting boundary conditions.....\n",
      "INFO:sixgill.core.run_or_start_simulation:Simulation is running.\n",
      "INFO:sixgill.core.run_or_start_simulation:Simulation is running.\n",
      "INFO:sixgill.core.run_or_start_simulation:Simulation is running.\n",
      "INFO:sixgill.core.run_or_start_simulation:Simulation is running.\n",
      "INFO:sixgill.core.run_or_start_simulation:Simulation is running.\n",
      "INFO:sixgill.core.run_or_start_simulation:Simulation is running.\n",
      "INFO:sixgill.core.run_or_start_simulation:Simulation is running.\n",
      "INFO:sixgill.core.run_or_start_simulation:Simulation is running.\n",
      "INFO:sixgill.core.run_or_start_simulation:Simulation is running.\n",
      "INFO:sixgill.core.run_or_start_simulation:Simulation is running.\n",
      "INFO:sixgill.core.run_or_start_simulation:Simulation is running.\n",
      "INFO:sixgill.core.run_or_start_simulation:Simulation is finished.\n",
      "ERROR:sixgill.core.run_or_start_simulation:Simulation did not run successfully.\n",
      "ERROR:core.network_simulation:Simulation run Unsuccessful.No results found. Check License availablity or model validity.\n",
      "Traceback (most recent call last):\n",
      "  File \"c:\\Users\\IDM252577\\Desktop\\Python Projects\\PIPSIM\\core\\network_simulation.py\", line 218, in run_existing_model\n",
      "    self.process_node_results()\n",
      "  File \"c:\\Users\\IDM252577\\Desktop\\Python Projects\\PIPSIM\\core\\network_simulation.py\", line 81, in process_node_results\n",
      "    raise NetworkSimulationError(\n",
      "core.network_simulation.NetworkSimulationError: Simulation run Unsuccessful.No results found. Check License availablity or model validity.\n",
      "ERROR:__main__:Error running simulation for F:\\Project\\AET01083.00 Wave-Component_3A\\09. Documents, Drawings\\9.31 Process\\09.31.01 Current documents\\BUHASA-Pump Hydraulics\\Rev 1\\LP\\Models\\b3\\Over-Max_S-HP-EO_BUHASA LP.pips: Simulation run Unsuccessful.No results found. Check License availablity or model validity.\n"
     ]
    }
   ],
   "source": [
    "run_simulation(target_folder, logger)"
   ]
  }
 ],
 "metadata": {
  "kernelspec": {
   "display_name": "base",
   "language": "python",
   "name": "python3"
  },
  "language_info": {
   "codemirror_mode": {
    "name": "ipython",
    "version": 3
   },
   "file_extension": ".py",
   "mimetype": "text/x-python",
   "name": "python",
   "nbconvert_exporter": "python",
   "pygments_lexer": "ipython3",
   "version": "3.11.7"
  }
 },
 "nbformat": 4,
 "nbformat_minor": 2
}
