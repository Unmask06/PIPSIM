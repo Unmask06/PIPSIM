{
 "cells": [
  {
   "cell_type": "code",
   "execution_count": 1,
   "metadata": {},
   "outputs": [],
   "source": [
    "from core.model_input import PipsimModel, ModelInput\n",
    "from core.network_simulation import NetworkSimulator\n",
    "from pathlib import Path"
   ]
  },
  {
   "cell_type": "code",
   "execution_count": null,
   "metadata": {},
   "outputs": [],
   "source": [
    "folder_path = Path(r\"C:\\Users\\IDM252577\\Desktop\\Python Projects\\PIPSIM\")\n",
    "\n",
    "\n",
    "for pips_file in folder_path.glob(\"*.pips\"):\n",
    "    try:\n",
    "        model = PipsimModel(str(pips_file), folder_path=str(folder_path))\n",
    "        model_input = ModelInput()\n",
    "        ns = NetworkSimulator(model, model_input)\n",
    "        ns.run_existing_model()\n",
    "    except Exception as e:\n",
    "        print(e)"
   ]
  }
 ],
 "metadata": {
  "kernelspec": {
   "display_name": "base",
   "language": "python",
   "name": "python3"
  },
  "language_info": {
   "codemirror_mode": {
    "name": "ipython",
    "version": 3
   },
   "file_extension": ".py",
   "mimetype": "text/x-python",
   "name": "python",
   "nbconvert_exporter": "python",
   "pygments_lexer": "ipython3",
   "version": "3.11.7"
  }
 },
 "nbformat": 4,
 "nbformat_minor": 2
}
