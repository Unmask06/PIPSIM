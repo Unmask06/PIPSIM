{
 "cells": [
  {
   "cell_type": "code",
   "execution_count": 1,
   "metadata": {},
   "outputs": [],
   "source": [
    "from sixgill.definitions import Units"
   ]
  },
  {
   "cell_type": "code",
   "execution_count": 15,
   "metadata": {},
   "outputs": [
    {
     "name": "stdout",
     "output_type": "stream",
     "text": [
      "['PIPESIM_METRIC', 'PIPESIM_SI', 'PIPESIM_FIELD']\n"
     ]
    }
   ],
   "source": [
    "# Get the string values as a list\n",
    "def get_string_values_from_class(class_name: type) -> list:\n",
    "    return [\n",
    "        value\n",
    "        for key, value in class_name.__dict__.items()\n",
    "        if not key.startswith(\"__\") and isinstance(value, str)\n",
    "    ]\n",
    "\n",
    "\n",
    "unit_values = get_string_values_from_class(Units)\n",
    "\n",
    "print(unit_values)"
   ]
  },
  {
   "cell_type": "code",
   "execution_count": 17,
   "metadata": {},
   "outputs": [
    {
     "data": {
      "text/plain": [
       "{'__module__': '__main__',\n",
       " '__doc__': 'Available unit of measurement categories',\n",
       " 'METRIC': 'PIPESIM_METRIC',\n",
       " 'SI': 'PIPESIM_SI',\n",
       " 'FIELD': 'PIPESIM_FIELD',\n",
       " '__dict__': <attribute '__dict__' of 'Units' objects>,\n",
       " '__weakref__': <attribute '__weakref__' of 'Units' objects>}"
      ]
     },
     "execution_count": 17,
     "metadata": {},
     "output_type": "execute_result"
    }
   ],
   "source": [
    "dict(Units.__dict__.items())"
   ]
  },
  {
   "cell_type": "code",
   "execution_count": null,
   "metadata": {},
   "outputs": [],
   "source": []
  }
 ],
 "metadata": {
  "kernelspec": {
   "display_name": "base",
   "language": "python",
   "name": "python3"
  },
  "language_info": {
   "codemirror_mode": {
    "name": "ipython",
    "version": 3
   },
   "file_extension": ".py",
   "mimetype": "text/x-python",
   "name": "python",
   "nbconvert_exporter": "python",
   "pygments_lexer": "ipython3",
   "version": "3.11.7"
  }
 },
 "nbformat": 4,
 "nbformat_minor": 2
}
