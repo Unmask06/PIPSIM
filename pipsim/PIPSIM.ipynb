{
 "cells": [
  {
   "cell_type": "code",
   "execution_count": 1,
   "metadata": {},
   "outputs": [],
   "source": [
    "from core.simulation_modeller import PipsimModel, ModelInput, PipsimModeller\n",
    "from pathlib import Path\n",
    "from core.input_validation import PipSimInput\n",
    "from wave_hydraulics import load_config\n",
    "from core.inputdata import InputData\n",
    "import pandas as pd"
   ]
  },
  {
   "cell_type": "code",
   "execution_count": 2,
   "metadata": {},
   "outputs": [
    {
     "name": "stderr",
     "output_type": "stream",
     "text": [
      "INFO:wave_hydraulics:Input file loaded successfully.\n"
     ]
    }
   ],
   "source": [
    "pipsim_input = load_config(\"inputs.json\")"
   ]
  },
  {
   "cell_type": "code",
   "execution_count": 3,
   "metadata": {},
   "outputs": [],
   "source": [
    "input_data = InputData(\n",
    "    excelfile=pipsim_input.EXCEL_FILE,\n",
    "    well_profile_sheet=pipsim_input.PIPSIM_INPUT_SHEET,\n",
    "    well_profile_starting_range=\"A4\",\n",
    "    conditions_sheet=pipsim_input.CONDITIONS_SHEET,\n",
    "    conditions_starting_range=\"A2\",\n",
    ")"
   ]
  },
  {
   "cell_type": "code",
   "execution_count": 4,
   "metadata": {},
   "outputs": [
    {
     "data": {
      "text/plain": [
       "('Overall_Max', 'W-LP-EO')"
      ]
     },
     "execution_count": 4,
     "metadata": {},
     "output_type": "execute_result"
    }
   ],
   "source": [
    "(case, condition) = input_data.case_conditions[0]\n",
    "(case, condition)"
   ]
  },
  {
   "cell_type": "code",
   "execution_count": 2,
   "metadata": {},
   "outputs": [
    {
     "name": "stderr",
     "output_type": "stream",
     "text": [
      "INFO:manta.server.manager:Starting PIPESIM server on thread ID: 13916\n",
      "INFO:manta.server.manager:Python toolkit license is checked out successfully\n",
      "INFO:manta.server.manager:Waiting for PIPESIM server to start.\n"
     ]
    }
   ],
   "source": [
    "pipmodel = PipsimModel(model_filename=\"O-Max_S-LP_BAB LP.pips\")"
   ]
  },
  {
   "cell_type": "code",
   "execution_count": 3,
   "metadata": {},
   "outputs": [
    {
     "data": {
      "text/plain": [
       "'BAB LP'"
      ]
     },
     "execution_count": 3,
     "metadata": {},
     "output_type": "execute_result"
    }
   ],
   "source": [
    "pipmodel.base_model_filename"
   ]
  },
  {
   "cell_type": "code",
   "execution_count": null,
   "metadata": {},
   "outputs": [],
   "source": []
  }
 ],
 "metadata": {
  "kernelspec": {
   "display_name": "base",
   "language": "python",
   "name": "python3"
  },
  "language_info": {
   "codemirror_mode": {
    "name": "ipython",
    "version": 3
   },
   "file_extension": ".py",
   "mimetype": "text/x-python",
   "name": "python",
   "nbconvert_exporter": "python",
   "pygments_lexer": "ipython3",
   "version": "3.11.7"
  }
 },
 "nbformat": 4,
 "nbformat_minor": 2
}
